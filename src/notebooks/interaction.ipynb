{
 "cells": [
  {
   "cell_type": "markdown",
   "metadata": {
    "collapsed": false
   },
   "source": []
  },
  {
   "cell_type": "code",
   "execution_count": null,
   "metadata": {
    "collapsed": false
   },
   "outputs": [],
   "source": [
    "import numpy as np\n",
    "import os\n",
    "current_directory = os.getcwd()\n",
    "print(current_directory)\n",
    "\n",
    "os.chdir('/home/jovyan/home/wakefinder/src/scripts')\n",
    "import load as ld\n",
    "import phys_quant as pq\n",
    "import plots as pl\n",
    "import rotations as rot\n",
    "import regioncut as rc\n",
    "from importlib import reload\n",
    "import plotly.graph_objects as go\n",
    "import plotly.figure_factory as ff\n",
    "import matplotlib.pyplot as plt"
   ]
  },
  {
   "cell_type": "markdown",
   "metadata": {
    "collapsed": false
   },
   "source": [
    "## Chequeo de rotacion y carga datos"
   ]
  },
  {
   "cell_type": "code",
   "execution_count": null,
   "metadata": {
    "ExecuteTime": {
     "end_time": "2023-06-13T11:16:14.862392900Z",
     "start_time": "2023-06-13T11:15:36.607059500Z"
    },
    "collapsed": false
   },
   "outputs": [],
   "source": [
    "# run if checking data files is needed\n",
    "# import os\n",
    "# data_script_dir = './'\n",
    "# data_script_name = 'data_prep.py'\n",
    "# path = os.path.join(data_script_dir, data_script_name)\n",
    "# %run $path"
   ]
  },
  {
   "cell_type": "code",
   "execution_count": null,
   "metadata": {
    "collapsed": false
   },
   "outputs": [],
   "source": [
    "\n",
    "#lee los dataset ya verificada la rotacion\n",
    "mw = ld.txt(\"mw_rot\")\n",
    "mw_lmc = ld.txt(\"mw_lmc_rot\")\n",
    "lmc = ld.txt(\"lmc_rot\")\n"
   ]
  },
  {
   "cell_type": "code",
   "execution_count": null,
   "metadata": {
    "collapsed": false
   },
   "outputs": [],
   "source": [
    "# #Revisar que la operacion sea correcta\n",
    "rel_lmc = pq.get_rot_orbit(lmc)"
   ]
  },
  {
   "cell_type": "code",
   "execution_count": null,
   "metadata": {
    "ExecuteTime": {
     "end_time": "2023-06-13T11:21:42.854308900Z",
     "start_time": "2023-06-13T11:21:42.797475900Z"
    },
    "collapsed": false
   },
   "outputs": [],
   "source": [
    "reload(pl)\n",
    "pl.surface_plot(rel_lmc_orbit, n_vector)"
   ]
  },
  {
   "cell_type": "code",
   "execution_count": null,
   "metadata": {
    "ExecuteTime": {
     "end_time": "2023-06-13T11:21:40.254876300Z",
     "start_time": "2023-06-13T11:21:40.195424200Z"
    },
    "collapsed": false
   },
   "outputs": [],
   "source": [
    "reload(pl)"
   ]
  },
  {
   "cell_type": "code",
   "execution_count": null,
   "metadata": {
    "collapsed": false
   },
   "outputs": [],
   "source": [
    "pl.E_L(mw_lmc, 8000, 'x')"
   ]
  },
  {
   "cell_type": "code",
   "execution_count": null,
   "metadata": {
    "collapsed": false
   },
   "outputs": [],
   "source": [
    "# #Pruebas\n",
    "# test_mw = np.random.rand(10,8)\n",
    "# test_mw_lmc = np.random.rand(10,8)"
   ]
  },
  {
   "cell_type": "code",
   "execution_count": null,
   "metadata": {
    "collapsed": false
   },
   "outputs": [],
   "source": [
    "# test = pq.add_more_quant(test_mw, test_mw_lmc)"
   ]
  },
  {
   "cell_type": "code",
   "execution_count": null,
   "metadata": {
    "collapsed": false
   },
   "outputs": [],
   "source": [
    "#Agrega las cantidades fisicas al array de datos\n",
    "# mw_halo, mw_lmc_halo = pq.add_more_quant(mw, mw_lmc)\n",
    "# print(\"the shape of mw_halo is:\", mw_halo.shape)\n",
    "# print(\"the shape of mw_lmc_halo is:\", mw_lmc_halo.shape)"
   ]
  },
  {
   "cell_type": "code",
   "execution_count": null,
   "metadata": {
    "collapsed": false
   },
   "outputs": [],
   "source": [
    "# #graficas orbitas LMC\n",
    "pl.LMC_plot(rel_lmc, \"xy\")\n",
    "pl.LMC_plot(rel_lmc, \"xz\")\n",
    "pl.LMC_plot(rel_lmc, \"yz\")\n"
   ]
  },
  {
   "cell_type": "code",
   "execution_count": null,
   "metadata": {
    "collapsed": false
   },
   "outputs": [],
   "source": [
    "pl.trajectory_LMC(rel_lmc,rel_lmc,20, 'xy')\n",
    "pl.trajectory_LMC(rel_lmc,rel_lmc,20, 'xz')\n",
    "pl.trajectory_LMC(rel_lmc,rel_lmc,20, 'yz')"
   ]
  },
  {
   "cell_type": "code",
   "execution_count": null,
   "metadata": {
    "collapsed": false
   },
   "outputs": [],
   "source": [
    "#Grafica de la magnitud del momento angular vs radio\n",
    "reload(pl)\n",
    "pl.hist_r_l(mw)\n",
    "# pl.hist_r_l(mw_lmc_halo)"
   ]
  },
  {
   "cell_type": "code",
   "execution_count": null,
   "metadata": {
    "collapsed": false
   },
   "outputs": [],
   "source": [
    "pl.hist_proj_r_l(mw,'yz')"
   ]
  },
  {
   "cell_type": "markdown",
   "metadata": {
    "collapsed": false
   },
   "source": [
    "# Primera seleccion"
   ]
  },
  {
   "cell_type": "code",
   "execution_count": null,
   "metadata": {
    "collapsed": false
   },
   "outputs": [],
   "source": [
    "#selecciona las particulas que estan en el rango de radio y momento angular\n",
    "# low_L, ids_nopert = rc.threshold_L(mw_lmc_halo,5000,10000)\n",
    "low_L, ids_nopert = rc.threshold_L(mw,0000,12000)"
   ]
  },
  {
   "cell_type": "code",
   "execution_count": null,
   "metadata": {
    "collapsed": false
   },
   "outputs": [],
   "source": [
    "mw_sel1 = np.copy(mw[low_L])\n",
    "# mw_sel1 = np.copy(mw_lmc_halo[low_L])\n",
    "\n",
    "print(\"the shape of mw_sel1\", mw_sel1.shape)"
   ]
  },
  {
   "cell_type": "code",
   "execution_count": null,
   "metadata": {
    "collapsed": false
   },
   "outputs": [],
   "source": [
    "reload(pl)\n",
    "pl.hist_L_r_low(mw_sel1[:,8], mw_sel1[:,10],'mw_sel1')\n"
   ]
  },
  {
   "cell_type": "code",
   "execution_count": null,
   "metadata": {
    "collapsed": false
   },
   "outputs": [],
   "source": [
    "ids_perthalo, common_ids = rc.get_ids(mw, mw_lmc, ids_nopert)\n",
    "# ids_perthalo, common_ids = rc.get_ids(mw_lmc_halo, mw_halo, ids_nopert)"
   ]
  },
  {
   "cell_type": "code",
   "execution_count": null,
   "metadata": {
    "collapsed": false
   },
   "outputs": [],
   "source": [
    "# check if all selected particles are in the perturbed halo\n",
    "# rc.test_ids(common_ids, mw_halo)\n",
    "\n",
    "rc.test_ids(common_ids, mw_lmc)"
   ]
  },
  {
   "cell_type": "code",
   "execution_count": null,
   "metadata": {
    "collapsed": false
   },
   "outputs": [],
   "source": [
    "#select particles in the perturbed halo\n",
    "mw_lmc_sel1 = np.copy(mw_lmc[ids_perthalo])\n",
    "# mw_lmc_sel1 = np.copy(mw_halo[ids_perthalo])\n"
   ]
  },
  {
   "cell_type": "code",
   "execution_count": null,
   "metadata": {
    "collapsed": false
   },
   "outputs": [],
   "source": [
    "reload(pl)\n",
    "pl.hist_r_l(mw_lmc_sel1,True,'mw_lmc_sel1')"
   ]
  },
  {
   "cell_type": "markdown",
   "metadata": {
    "collapsed": false
   },
   "source": [
    "# Segunda seleccion"
   ]
  },
  {
   "cell_type": "code",
   "execution_count": null,
   "metadata": {
    "collapsed": false
   },
   "outputs": [],
   "source": [
    "# sel2_part = rc.sel2(mw_lmc_sel1,220,50,13000,20000)\n",
    "sel2_part = rc.sel2(mw_lmc_sel1,220,50,13000,25000)\n"
   ]
  },
  {
   "cell_type": "code",
   "execution_count": null,
   "metadata": {
    "collapsed": false
   },
   "outputs": [],
   "source": [
    "pl.hist_r_l(mw_lmc_sel1[sel2_part],True,'mw_lmc_sel2')"
   ]
  },
  {
   "cell_type": "markdown",
   "metadata": {
    "collapsed": false
   },
   "source": [
    "# Seleccion de particulas de la estela"
   ]
  },
  {
   "cell_type": "code",
   "execution_count": null,
   "metadata": {
    "collapsed": false
   },
   "outputs": [],
   "source": [
    "wake_particles_pert, wake_particles_no_pert = rc.selected_ids(mw_lmc_sel1, sel2_part, mw, mw_lmc)"
   ]
  },
  {
   "cell_type": "markdown",
   "metadata": {
    "collapsed": false
   },
   "source": [
    "# Graficas"
   ]
  },
  {
   "cell_type": "code",
   "execution_count": null,
   "metadata": {},
   "outputs": [],
   "source": [
    "reload(pl)"
   ]
  },
  {
   "cell_type": "code",
   "execution_count": null,
   "metadata": {
    "collapsed": false
   },
   "outputs": [],
   "source": [
    "pl.plot_3d(wake_particles_pert, rel_lmc, 'DM wake pert part')\n",
    "pl.plot_3d_plt(wake_particles_pert, rel_lmc, 'Perturbed halo DM wake candidates')\n"
   ]
  },
  {
   "cell_type": "code",
   "execution_count": null,
   "metadata": {
    "collapsed": false
   },
   "outputs": [],
   "source": [
    "# pl.plot_3d(wake_particles_no_pert, rel_lmc, 'DM wake no pert part')"
   ]
  },
  {
   "cell_type": "code",
   "execution_count": null,
   "metadata": {
    "collapsed": false
   },
   "outputs": [],
   "source": [
    "pl.proj_both(wake_particles_no_pert, wake_particles_pert, rel_lmc,\"xy\")\n",
    "pl.proj_both(wake_particles_no_pert, wake_particles_pert, rel_lmc,\"xz\")\n",
    "pl.proj_both(wake_particles_no_pert, wake_particles_pert, rel_lmc,\"yz\")"
   ]
  },
  {
   "cell_type": "code",
   "execution_count": null,
   "metadata": {
    "collapsed": false
   },
   "outputs": [],
   "source": [
    "pl.proj_xy(wake_particles_pert, rel_lmc)"
   ]
  },
  {
   "cell_type": "code",
   "execution_count": null,
   "metadata": {
    "collapsed": false
   },
   "outputs": [],
   "source": [
    "pl.proj_xz(wake_particles_pert, rel_lmc)"
   ]
  },
  {
   "cell_type": "code",
   "execution_count": null,
   "metadata": {
    "collapsed": false
   },
   "outputs": [],
   "source": [
    "pl.proj_yz(wake_particles_pert, rel_lmc)"
   ]
  },
  {
   "cell_type": "code",
   "execution_count": null,
   "metadata": {
    "collapsed": false
   },
   "outputs": [],
   "source": [
    "pl.vector_field(wake_particles_pert,rel_lmc,'xz',150)"
   ]
  },
  {
   "cell_type": "code",
   "execution_count": null,
   "metadata": {
    "collapsed": false
   },
   "outputs": [],
   "source": [
    "pl.vector_field(wake_particles_pert,rel_lmc,'yz',150)"
   ]
  },
  {
   "cell_type": "code",
   "execution_count": null,
   "metadata": {
    "collapsed": false
   },
   "outputs": [],
   "source": [
    "pl.vector_field(wake_particles_pert,rel_lmc,'xy',150)\n"
   ]
  },
  {
   "cell_type": "code",
   "execution_count": null,
   "metadata": {
    "collapsed": false
   },
   "outputs": [],
   "source": [
    "pl.vec_field2(wake_particles_pert, wake_particles_no_pert, rel_lmc, 'xy')"
   ]
  },
  {
   "cell_type": "code",
   "execution_count": null,
   "metadata": {
    "collapsed": false
   },
   "outputs": [],
   "source": [
    "pl.vec_field2(wake_particles_pert, wake_particles_no_pert, rel_lmc, 'xz')"
   ]
  },
  {
   "cell_type": "code",
   "execution_count": null,
   "metadata": {
    "collapsed": false
   },
   "outputs": [],
   "source": [
    "pl.vec_field2(wake_particles_pert, wake_particles_no_pert, rel_lmc, 'yz')\n"
   ]
  },
  {
   "cell_type": "code",
   "execution_count": null,
   "metadata": {
    "ExecuteTime": {
     "end_time": "2023-06-13T02:58:48.772374100Z",
     "start_time": "2023-06-13T02:58:48.616779500Z"
    },
    "collapsed": false
   },
   "outputs": [],
   "source": [
    "reload(pl)\n",
    "pl.comparison_density_contour_plt(wake_particles_no_pert, wake_particles_pert, rel_lmc, 'xy')\n",
    "pl.comparison_density_contour_plt(wake_particles_no_pert, wake_particles_pert, rel_lmc, 'yz')\n",
    "pl.comparison_density_contour_plt(wake_particles_no_pert, wake_particles_pert, rel_lmc, 'xz')"
   ]
  },
  {
   "cell_type": "code",
   "execution_count": null,
   "metadata": {
    "ExecuteTime": {
     "end_time": "2023-06-13T06:49:24.048515400Z",
     "start_time": "2023-06-13T06:49:20.470930100Z"
    },
    "collapsed": false
   },
   "outputs": [],
   "source": [
    "pl.density_contour_plt(wake_particles_no_pert,rel_lmc, 'yz')\n",
    "pl.density_contour_plt(wake_particles_pert,rel_lmc, 'yz')"
   ]
  },
  {
   "cell_type": "code",
   "execution_count": null,
   "metadata": {
    "ExecuteTime": {
     "end_time": "2023-06-13T02:52:10.359956600Z",
     "start_time": "2023-06-13T02:52:08.365178800Z"
    },
    "collapsed": false
   },
   "outputs": [],
   "source": [
    "pl.vector_field_plt(wake_particles_pert, rel_lmc, 'yz',20,2500,0.005, True)\n",
    "pl.vector_field_plt(wake_particles_no_pert, rel_lmc, 'yz',10,2500,0.005, False)"
   ]
  },
  {
   "cell_type": "code",
   "execution_count": null,
   "metadata": {
    "collapsed": false
   },
   "outputs": [],
   "source": [
    "pl.vector_field_plt(wake_particles_pert, rel_lmc, 'yz',20,2500,0.005, True)"
   ]
  },
  {
   "cell_type": "code",
   "execution_count": null,
   "metadata": {},
   "outputs": [],
   "source": [
    "reload(pl)\n",
    "pl.comparison_hist_orbit_plt(wake_particles_no_pert, wake_particles_pert,rel_lmc, 'xy',8,1500,0.005)\n",
    "pl.comparison_hist_orbit_plt(wake_particles_no_pert, wake_particles_pert,rel_lmc, 'yz',8,1500,0.005)\n",
    "# Hacer zoom \n",
    "pl.comparison_hist_orbit_plt(wake_particles_no_pert, wake_particles_pert,rel_lmc, 'xz',8,1500,0.005)"
   ]
  },
  {
   "cell_type": "code",
   "execution_count": null,
   "metadata": {
    "ExecuteTime": {
     "end_time": "2023-06-13T02:59:08.241600100Z",
     "start_time": "2023-06-13T02:58:57.465736600Z"
    },
    "collapsed": false
   },
   "outputs": [],
   "source": [
    "pl.hist_orbit_plt(wake_particles_pert, rel_lmc, 'yz',8,3000,0.005, True)\n",
    "pl.hist_orbit_plt(wake_particles_no_pert, rel_lmc, 'yz',8,3000,0.005, False)\n"
   ]
  },
  {
   "cell_type": "code",
   "execution_count": null,
   "metadata": {
    "collapsed": false
   },
   "outputs": [],
   "source": [
    "reload(pl)\n",
    "pl.E_L(mw,  'x', 'scatter', wake_particles_no_pert, 2000)\n",
    "pl.E_L(mw,  'y', 'scatter', wake_particles_no_pert, 2000)\n",
    "pl.E_L(mw,  'z', 'scatter', wake_particles_no_pert, 2000)\n",
    "pl.E_L(mw,  'mag', 'scatter', wake_particles_no_pert, 2000)\n",
    "pl.E_L(mw_lmc,  'x', 'scatter', wake_particles_no_pert, 2000)\n",
    "pl.E_L(mw_lmc,  'y', 'scatter', wake_particles_no_pert, 2000)\n",
    "pl.E_L(mw_lmc,  'z', 'scatter', wake_particles_no_pert, 2000)\n",
    "pl.E_L(mw_lmc,  'mag', 'scatter', wake_particles_no_pert, 2000)\n"
   ]
  },
  {
   "cell_type": "markdown",
   "metadata": {
    "collapsed": false
   },
   "source": [
    "# Generalizacion"
   ]
  },
  {
   "cell_type": "code",
   "execution_count": null,
   "metadata": {
    "collapsed": false
   },
   "outputs": [],
   "source": [
    "sel2_sel3 = rc.L_delta(wake_particles_pert, wake_particles_no_pert, 200)\n",
    "pl.sel3(sel2_sel3, rel_lmc, 'xz')\n",
    "pl.sel3(sel2_sel3, rel_lmc, 'yz')\n",
    "pl.sel3(sel2_sel3, rel_lmc, 'xy')"
   ]
  },
  {
   "cell_type": "code",
   "execution_count": null,
   "metadata": {
    "collapsed": false
   },
   "outputs": [],
   "source": [
    "pl.plot_3d(sel2_sel3, rel_lmc, \"Seleccion 3\")"
   ]
  },
  {
   "cell_type": "code",
   "execution_count": null,
   "metadata": {
    "collapsed": false
   },
   "outputs": [],
   "source": [
    "sel1_sel3 = rc.L_delta(mw_lmc_sel1, mw_sel1, 900)\n",
    "pl.sel3(sel1_sel3, rel_lmc, 'xz')\n",
    "pl.sel3(sel1_sel3, rel_lmc, 'yz')\n",
    "pl.sel3(sel1_sel3, rel_lmc, 'xy')\n",
    "\n"
   ]
  },
  {
   "cell_type": "code",
   "execution_count": null,
   "metadata": {
    "collapsed": false
   },
   "outputs": [],
   "source": [
    "pl.plot_3d(sel1_sel3, rel_lmc, \"Seleccion 3\")"
   ]
  },
  {
   "cell_type": "code",
   "execution_count": null,
   "metadata": {
    "collapsed": false,
    "is_executing": true
   },
   "outputs": [],
   "source": [
    "L_mag_delta_rot = rc.L_mag_delta(mw_lmc_sel1[:,10] , mw_sel1[:,10])\n",
    "L_mag_delta = np.copy(L_mag_delta_rot[:,np.newaxis])\n",
    "print(\"the shape of L_mag_delta_rot\", L_mag_delta.shape)\n",
    "print(\"L_mag\", wake_particles_pert[:,10].shape)"
   ]
  },
  {
   "cell_type": "code",
   "execution_count": null,
   "metadata": {
    "collapsed": false
   },
   "outputs": [],
   "source": []
  }
 ],
 "metadata": {
  "kernelspec": {
   "display_name": "Python 3",
   "language": "python",
   "name": "python3"
  },
  "language_info": {
   "codemirror_mode": {
    "name": "ipython",
    "version": 3
   },
   "file_extension": ".py",
   "mimetype": "text/x-python",
   "name": "python",
   "nbconvert_exporter": "python",
   "pygments_lexer": "ipython3",
   "version": "3.7.10"
  }
 },
 "nbformat": 4,
 "nbformat_minor": 0
}
