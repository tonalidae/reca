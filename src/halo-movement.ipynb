{
 "cells": [
  {
   "cell_type": "markdown",
   "metadata": {},
   "source": [
    "# Histogramas de densidades en el halo de materia oscuro\n"
   ]
  },
  {
   "cell_type": "markdown",
   "metadata": {},
   "source": [
    "Importar librerias\n",
    "\n",
    "```{notebook}\n",
    "\n",
    "```\n"
   ]
  },
  {
   "cell_type": "code",
   "execution_count": null,
   "metadata": {
    "colab": {
     "base_uri": "https://localhost:8080/"
    },
    "id": "mQlAcDRtsC0u",
    "outputId": "e9d363d5-9757-40ea-8f45-3def7853029e"
   },
   "outputs": [],
   "source": [
    "import pandas as pd\n",
    "import matplotlib.pyplot as plt\n",
    "from matplotlib.colors import LogNorm \n",
    "import numpy as np"
   ]
  },
  {
   "cell_type": "markdown",
   "metadata": {},
   "source": [
    "Funcion para graficar la densidad de las posiciones de los halos individuales </p>\n"
   ]
  },
  {
   "cell_type": "code",
   "execution_count": null,
   "metadata": {},
   "outputs": [],
   "source": [
    "def cartessian_projection(pos, figname):\n",
    "      \"\"\"_summary_\n",
    "\n",
    "      Args:\n",
    "            pos (dataframe): _description_\n",
    "            figname (_type_): _description_\n",
    "\n",
    "      Returns:\n",
    "            _type_: _description_\n",
    "      \"\"\"\n",
    "      fig, ax = plt.subplots(1, 3, figsize=(15,5), sharex=True)\n",
    "      ax[0].hist2d(pos['x[kpc]'], pos['y[kpc]'],  bins=np.linspace(-150,150,150), norm=LogNorm())\n",
    "      ax[0].set_xlabel(r\"x[$kpc$]\") \n",
    "      ax[0].set_ylabel(r\"y[$kpc$]\") \n",
    "      ax[0].title.set_text(\"Proyección en xy\")\n",
    "      # ax[0].title.set_fontsize(15)\n",
    "      \n",
    "      ax[1].hist2d(pos['y[kpc]'], pos['z[kpc]'],  bins=np.linspace(-150,150,150), norm=LogNorm())\n",
    "      ax[1].set_xlabel(r\"y[$kpc$]\") \n",
    "      ax[1].set_ylabel(r\"z[$kpc$]\") \n",
    "      ax[1].title.set_text(\"Proyección en yz\")\n",
    "      ax[2].hist2d(pos['x[kpc]'], pos['z[kpc]'],  bins=np.linspace(-150,150,150), norm=LogNorm())\n",
    "      ax[2].set_xlabel(r\"x[$kpc$]\") \n",
    "      ax[2].set_ylabel(r\"z[$kpc$]\") \n",
    "      ax[2].title.set_text(\"Proyección en xz\")\n",
    "      im_xy = ax[0].imshow(pos, vmin=-0.2, vmax=0.2)\n",
    "      im_yz = ax[1].imshow(pos, vmin=-0.2, vmax=0.2)\n",
    "      im_xz = ax[2].imshow(pos, vmin=-0.2, vmax=0.2)\n",
    "      # im0 = ax[0].imshow(np.log10(np.abs(pos['x[kpc]'])), cmap='plasma')\n",
    "\n",
    "      fig.subplots_adjust(wspace=0.3)\n",
    "      # plt.tight_layout()\n",
    "      fig.suptitle(\"Histograma de posiciones \"+figname, fontsize=20)\n",
    "      # plt.colorbar(im0, ax=ax[0])\n",
    "      plt.savefig('./../media/imgs/cartessian_projection/'+figname +'.jpg', bbox_inches='tight', dpi = 150)\n",
    "      \n",
    "      plt.colorbar(im_xy, ax=ax[0])\n",
    "      plt.colorbar(im_yz, ax=ax[1])\n",
    "      plt.colorbar(im_xz, ax=ax[2])\n",
    "      plt.show()\n",
    "      plt.close()\n",
    "      return 0\n",
    "\n",
    "def cartessian_projection_zoom(pos, figname):\n",
    "      fig, ax = plt.subplots(1, 1, figsize=(5,5))\n",
    "      ax.hist2d(pos[0], pos[1],  bins=np.linspace(-150,150,150), norm=LogNorm())\n",
    "      # ax.title.set_text(\"Proyección en\"+ figname)\n",
    "      im = ax.imshow( pos, vmin=-0.2, vmax=0.2)\n",
    "      fig.suptitle(\"Histograma de posiciones \"+figname, fontsize=15)\n",
    "      plt.xlim(-10,10)\n",
    "      plt.ylim(-10,10)\n",
    "      plt.colorbar(im, ax=ax)\n",
    "      plt.savefig('./../media/imgs/cartessian_projection_zoom/'+figname +'.jpg', bbox_inches='tight', dpi = 150)\n",
    "      plt.show()\n",
    "      plt.close()\n",
    "      return 0\n"
   ]
  },
  {
   "cell_type": "markdown",
   "metadata": {},
   "source": [
    "## Lectura de datos\n"
   ]
  },
  {
   "cell_type": "code",
   "execution_count": null,
   "metadata": {},
   "outputs": [],
   "source": [
    "reference = pd.read_csv('../data/rand_mwb1_110.txt', names=[\"x[kpc]\",\"y[kpc]\",\"z[kpc]\",\"vx[km/s]\",\"vy[km/s]\",\"vz[km/s]\"], sep=\" \")\n",
    "perturbed = pd.read_csv('../data/rand_mwlmc5b0_110.txt', names=[\"x[kpc]\",\"y[kpc]\",\"z[kpc]\",\"vx[km/s]\",\"vy[km/s]\",\"vz[km/s]\"], sep=\" \")\n",
    "\n",
    "df_mw = pd.DataFrame(reference)\n",
    "df_mw_lmc = pd.DataFrame(perturbed)\n"
   ]
  },
  {
   "cell_type": "markdown",
   "metadata": {},
   "source": [
    "<p> Uso de la funcion 'cartesian_projection' y 'cartessian_projection_zoom' para graficar las posiciones de las particulas del halo\n",
    "<p>\n",
    "\n",
    "\n",
    "\n",
    "\n",
    "\n",
    " \n"
   ]
  },
  {
   "cell_type": "code",
   "execution_count": null,
   "metadata": {},
   "outputs": [],
   "source": [
    "cartessian_projection(df_mw, \"halo no pertubado\")\n",
    "cartessian_projection(df_mw_lmc, \"halo pertubado\")\n",
    "\n",
    "\n",
    "# cartessian_projection_zoom(pos_xy_mw, \"mw \")\n",
    "# cartessian_projection_zoom(pos_xy_mw_lmc, \"mw lmc \")"
   ]
  },
  {
   "cell_type": "markdown",
   "metadata": {},
   "source": [
    "<p> Calculo de los histogramas haciendo uso de la funcion 'histogram2d' de la libreria Numpy </p>\n"
   ]
  },
  {
   "cell_type": "code",
   "execution_count": null,
   "metadata": {},
   "outputs": [],
   "source": [
    "\n",
    "\n",
    "density_xy_1 = np.histogram2d(df_mw['x[kpc]'], df_mw['y[kpc]'],   bins=np.linspace(-150,150,150) )\n",
    "\n",
    "# for i in density1[0].tolist():\n",
    "    # print(i,'\\n')\n",
    "\n",
    "# print(type(density1[0].tolist()))\n",
    "\n",
    "density_xy_2 = np.histogram2d(df_mw_lmc['x[kpc]'], df_mw_lmc['y[kpc]'],  bins=np.linspace(-150,150,150))\n",
    "\n",
    "\n",
    "\n",
    "density_yz_1 = np.histogram2d(df_mw['y[kpc]'], df_mw['z[kpc]'], bins=np.linspace(-150,150,150))\n",
    "\n",
    "density_yz_2 = np.histogram2d(df_mw_lmc['y[kpc]'], df_mw_lmc['z[kpc]'], bins=np.linspace(-150,150,150))\n",
    "\n",
    "density_xz_1 = np.histogram2d(df_mw['x[kpc]'], df_mw['z[kpc]'], bins=np.linspace(-150,150,150))\n",
    "\n",
    "density_xz_2 = np.histogram2d(df_mw_lmc['x[kpc]'], df_mw_lmc['z[kpc]'], bins=np.linspace(-150,150,150))\n"
   ]
  },
  {
   "cell_type": "markdown",
   "metadata": {},
   "source": [
    "<p>Division de las primeras columnas de cada matriz densidad. </p>\n"
   ]
  },
  {
   "cell_type": "code",
   "execution_count": null,
   "metadata": {},
   "outputs": [],
   "source": [
    "nparticles_xy_1 = density_xy_1[0]\n",
    "nparticles_xy_2 = density_xy_2[0]\n",
    "nparticles_yz_1 = density_yz_1[0]\n",
    "nparticles_yz_2 = density_yz_2[0]\n",
    "nparticles_xz_1 = density_xz_1[0]\n",
    "nparticles_xz_2 = density_xz_2[0]\n",
    "\n",
    "\n",
    "def histogram_comparison (density, figname ):\n",
    "    fig, ax = plt.subplots(1, 1, figsize=(5,5))\n",
    "    im = ax.imshow(density, vmin = -0.2, vmax=0.2)\n",
    "    plt.colorbar(im) \n",
    "    plt.title(\"Histograma \"+figname, fontsize=14)\n",
    "    plt.gca().invert_yaxis()\n",
    "    plt.savefig('./../media/imgs/histogram_comparison/'+figname +'.jpg', bbox_inches='tight')\n",
    "    plt.show()\n",
    "    plt.close()\n",
    "    return 0\n",
    "\n",
    "\n",
    "def histogram_comparison_zoom (density, figname ):\n",
    "    fig, ax = plt.subplots(1, 1, figsize=(5,5))\n",
    "    im = ax.imshow(density, vmin = -0.2, vmax=0.2)\n",
    "    plt.colorbar(im)\n",
    "    plt.title(\"Zoom en region \"+figname, fontsize=14)\n",
    "    plt.xlim(45,95)\n",
    "    plt.ylim(45,95)\n",
    "    plt.savefig('./../media/imgs/histogram_comparison_zoom/'+figname +'.jpg')\n",
    "    plt.show()\n",
    "    plt.close()\n",
    "    return 0\n",
    "    \n",
    "\n",
    "# Comparacion de densidad de particulas\n",
    "# Componenentes xy\n",
    "division_xy = (nparticles_xy_2/nparticles_xy_1)-1\n",
    "resta_xy = nparticles_xy_2-nparticles_xy_1\n",
    "\n",
    "# Componentes yz\n",
    "division_yz = (nparticles_yz_2/nparticles_yz_1)-1\n",
    "resta_yz = nparticles_yz_2-nparticles_yz_1\n",
    "\n",
    "# Componentes xz\n",
    "division_xz = (nparticles_xz_2/nparticles_xz_1)-1\n",
    "resta_xz = nparticles_xz_2-nparticles_xz_1\n",
    "\n",
    "#Grafic de comparacion y zoom entre la densidad de particulas en el halo perturbado y el halo no perturbado\n",
    "\n",
    "histogram_comparison(division_xy, \"division en xy\")\n",
    "histogram_comparison(resta_xy, \"resta en xy\")\n",
    "histogram_comparison(division_yz, \"division en yz\")\n",
    "histogram_comparison(resta_yz, \"resta en yz\")\n",
    "histogram_comparison(division_xz, \"division en xz\")\n",
    "histogram_comparison(resta_xz, \"resta en xz\")\n",
    "\n",
    "histogram_comparison_zoom(division_xy, \"division en xy\")\n",
    "histogram_comparison_zoom(resta_xy, \"resta en xy\")\n",
    "histogram_comparison_zoom(division_yz, \"division en yz\")\n",
    "histogram_comparison_zoom(resta_yz, \"resta en yz\")\n",
    "histogram_comparison_zoom(division_xz, \"division en xz\")\n",
    "histogram_comparison_zoom(resta_xz, \"resta en xz\")\n",
    "\n"
   ]
  },
  {
   "cell_type": "markdown",
   "metadata": {},
   "source": [
    "## Calculo componentes momento angular $$\\vec{L}= \\vec{r} \\times \\vec{v}$$\n"
   ]
  },
  {
   "cell_type": "markdown",
   "metadata": {},
   "source": [
    "Importar data de las columnas de velocidad en un ndarray\n"
   ]
  },
  {
   "cell_type": "code",
   "execution_count": null,
   "metadata": {},
   "outputs": [],
   "source": [
    "\n",
    "\n",
    "#Position and velocity of halo particles in cartesian coordinates\n",
    "#Import dataframe into numpy array\n",
    "\n",
    "pos_mw = np.array([df_mw['x[kpc]'], df_mw['y[kpc]'], df_mw['z[kpc]']])\n",
    "vel_mw = np.array([df_mw['vx[km/s]'], df_mw['vy[km/s]'], df_mw['vz[km/s]']])\n",
    "pos_mw_lmc = np.array([df_mw_lmc['x[kpc]'], df_mw_lmc['y[kpc]'], df_mw_lmc['z[kpc]']])\n",
    "vel_mw_lmc = np.array([df_mw_lmc['vx[km/s]'], df_mw_lmc['vy[km/s]'], df_mw_lmc['vz[km/s]']])\n",
    "\n",
    "\n",
    "\n",
    "#Calculate angular momentum components\n",
    "\n",
    "def angular_momentum(pos, vel):\n",
    "    L = np.cross(pos, vel)\n",
    "    mag = np.linalg.norm(L, axis=1)\n",
    "    return L[:,0], L[:,1], L[:,2], mag\n",
    "\n",
    "Lx1, Ly1, Lz1, L_mag_mw = angular_momentum(pos_mw.T, vel_mw.T)\n",
    "Lx2, Ly2, Lz2, L_mag_mw_lmc = angular_momentum(pos_mw_lmc.T, vel_mw_lmc.T)\n",
    "\n",
    "print(\"Magnitudes de momento angular\",L_mag_mw, L_mag_mw_lmc)\n",
    "\n",
    "print(\"Max mag L\", np.max(L_mag_mw), np.min(L_mag_mw))\n",
    "def total_angular_momentum(Lx, Ly, Lz):\n",
    "    \"\"\"_Funcion para calcular el momentum angular total_\n",
    "\n",
    "    Args:\n",
    "        Lx (_ndarray_): _Componente x del momento angular_\n",
    "        Ly (_ndarray_): _Componente y del momento angular_\n",
    "        Lz (_ndarray_): _Componente z del momento angular_\n",
    "\n",
    "    Returns:\n",
    "        _type_: _description_\n",
    "    \"\"\"\n",
    "    L_tot = np.array([Lx, Ly, Lz])\n",
    "    L_len = len(L_tot[0])    \n",
    "    return np.sum(Lx)/L_len, np.sum(Ly)/L_len, np.sum(Lz)/L_len\n",
    "\n",
    "L_tot_mw = total_angular_momentum(Lx1, Ly1, Lz1)\n",
    "L_tot_mw_lmc = total_angular_momentum(Lx2, Ly2, Lz2)\n",
    "print(\"L_tot_mw\", L_tot_mw)\n",
    "# print(\"L_tot_mw_lmc\", L_tot_mw_lmc)\n",
    "\n"
   ]
  },
  {
   "cell_type": "markdown",
   "metadata": {},
   "source": [
    "<p> Histograma yz con valores de x < 10 kpc<p+>"
   ]
  },
  {
   "cell_type": "code",
   "execution_count": null,
   "metadata": {},
   "outputs": [],
   "source": [
    "#data processing for the MW non perturbed halo\n",
    "\n",
    "\n",
    "pos_x_mw = df_mw['x[kpc]'].to_numpy()\n",
    "pos_y_mw = df_mw['y[kpc]'].to_numpy()\n",
    "pos_z_mw = df_mw['z[kpc]'].to_numpy()\n",
    "\n",
    "\n",
    "within_10_kpc_mw = np.where((pos_x_mw > -30) & (pos_x_mw < 30))\n",
    "\n",
    "\n",
    "#y and z position values for  non perturbed halo in x range -10 to 10 kpc\n",
    "pos_y_in_x_range_mw = pos_y_mw[within_10_kpc_mw]\n",
    "pos_z_in_x_range_mw = pos_z_mw[within_10_kpc_mw]\n",
    "\n",
    "#data processing for the MW+LMC perturbed halo\n",
    "pos_x_mw_lmc = df_mw_lmc['x[kpc]'].to_numpy()\n",
    "pos_y_mw_lmc = df_mw_lmc['y[kpc]'].to_numpy()\n",
    "pos_z_mw_lmc = df_mw_lmc['z[kpc]'].to_numpy()\n",
    "\n",
    "within_10_kpc_mw_lmc = np.where((pos_x_mw_lmc > -30) & (pos_x_mw_lmc < 30))\n",
    "pos_y_in_x_range_mw_lmc = pos_y_mw_lmc[within_10_kpc_mw_lmc]\n",
    "pos_z_in_x_range_mw_lmc = pos_z_mw_lmc[within_10_kpc_mw_lmc]\n"
   ]
  },
  {
   "cell_type": "markdown",
   "metadata": {},
   "source": [
    "<p> Histogram plot of yz plane with data indexes of given range <p>"
   ]
  },
  {
   "cell_type": "code",
   "execution_count": null,
   "metadata": {},
   "outputs": [],
   "source": [
    "density_yz_mw = np.histogram2d(pos_y_in_x_range_mw, pos_z_in_x_range_mw, bins=np.linspace(-150,150,150) )\n",
    "density_yz_mw_lmc = np.histogram2d(pos_y_in_x_range_mw_lmc, pos_z_in_x_range_mw_lmc,bins=np.linspace(-150,150,150))\n",
    "\n",
    "\n",
    "nparticles_yz_mw = density_yz_mw[0]\n",
    "nparticles_yz_mw_lmc = density_yz_mw_lmc[0]\n",
    "\n",
    "# Comparacion de densidad de particulas\n",
    "division_yz_in_x = (nparticles_yz_mw_lmc/nparticles_yz_mw)-1\n",
    "resta_yz_in_x = nparticles_yz_mw_lmc-nparticles_yz_mw\n",
    "histogram_comparison(division_yz_in_x, \"division yz in 10 kpc\")\n",
    "histogram_comparison(resta_yz_in_x, \"resta yz in 10 kpc\")\n",
    "\n"
   ]
  },
  {
   "cell_type": "code",
   "execution_count": null,
   "metadata": {},
   "outputs": [],
   "source": [
    "df_mw2 = df_mw.to_numpy()\n",
    "df_mw_lmc2 = df_mw_lmc.to_numpy()\n",
    "\n",
    "pos_total_mw = df_mw2[:,0:3]\n",
    "pos_total_mw_lmc = df_mw_lmc2[:,0:3]\n",
    "# print(pos_total_mw.max())\n",
    "pos_mg_mw = np.linalg.norm(pos_total_mw, axis=1)\n",
    "pos_mg_mw_lmc = np.linalg.norm(pos_total_mw_lmc, axis=1)\n",
    "\n",
    "print(\"Dimensiones de pos_total_mw\", pos_mg_mw.max(), pos_mg_mw.min())\n",
    "# print(L_mag_mw.max(), L_mag_mw.min())\n",
    "\n",
    "\n",
    "distance =  np.arange(50,250,10)\n",
    "L = np.arange(9,50000,2500)\n",
    "hist_rvs_l_mw = np.zeros([len(distance), len(L)])\n",
    "for i in range(0,len(distance)-1):\n",
    "    r_index = np.where((pos_mg_mw_lmc > distance[i]) & (pos_mg_mw_lmc < distance[i+1]))\n",
    "    \n",
    "    # print(\"max\",np.max(pos_mg_mw[r_index]), \"min\",np.min(pos_mg_mw[r_index]))\n",
    "    \n",
    "    # print(distance[i], distance[i+1])\n",
    "    \n",
    "    for j in range(0,len(L)-1):\n",
    "        Nl = np.where((L_mag_mw_lmc[r_index]> L[j]) & (L_mag_mw_lmc[r_index] < L[j+1]))\n",
    "        # print(np.shape(Nl))\n",
    "        hist_rvs_l_mw[i,j] = np.shape(Nl)[1]\n",
    "        # print(L_mag_mw[Nl])\n",
    "        # print(\"Nl\", Nl)\n",
    "# print(\"hist_rvs_l_mw\", \"\\n\",hist_rvs_l_mw)"
   ]
  },
  {
   "cell_type": "code",
   "execution_count": null,
   "metadata": {},
   "outputs": [],
   "source": [
    "im = plt.imshow(np.log10(hist_rvs_l_mw), extent=[50, 250, 0, 50000], aspect='auto', origin='lower', vmin=0, vmax=5,cmap='Greys')\n",
    "\n",
    "\n",
    "\n",
    "# plt.imshow(np.log10(hist_rvs_l_mw.T), origin=\"lower\", cmap='Greys', vmin=0, vmax=5)\n",
    "# plt.colorbar()\n"
   ]
  },
  {
   "cell_type": "code",
   "execution_count": null,
   "metadata": {},
   "outputs": [],
   "source": []
  }
 ],
 "metadata": {
  "colab": {
   "collapsed_sections": [],
   "name": "Halo-equilibrio.ipynb",
   "provenance": [],
   "toc_visible": true
  },
  "kernelspec": {
   "display_name": "Python 3.9.13 64-bit",
   "language": "python",
   "name": "python3"
  },
  "language_info": {
   "codemirror_mode": {
    "name": "ipython",
    "version": 3
   },
   "file_extension": ".py",
   "mimetype": "text/x-python",
   "name": "python",
   "nbconvert_exporter": "python",
   "pygments_lexer": "ipython3",
   "version": "3.9.13"
  },
  "vscode": {
   "interpreter": {
    "hash": "59ba741b21c64ff776073c75d9963c628afb8c1242aa735a0fb9bc09e688c20a"
   }
  }
 },
 "nbformat": 4,
 "nbformat_minor": 4
}
