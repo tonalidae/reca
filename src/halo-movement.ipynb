{
 "cells": [
  {
   "cell_type": "markdown",
   "metadata": {},
   "source": [
    "# Histogramas de densidades en el halo de materia oscuro"
   ]
  },
  {
   "cell_type": "markdown",
   "metadata": {},
   "source": [
    "Importar librerias\n",
    "\n",
    "```{notebook}"
   ]
  },
  {
   "cell_type": "code",
   "execution_count": 2,
   "metadata": {
    "colab": {
     "base_uri": "https://localhost:8080/"
    },
    "id": "mQlAcDRtsC0u",
    "outputId": "e9d363d5-9757-40ea-8f45-3def7853029e"
   },
   "outputs": [],
   "source": [
    "import pandas as pd\n",
    "import matplotlib.pyplot as plt\n",
    "from matplotlib.colors import LogNorm \n",
    "import numpy as np"
   ]
  },
  {
   "cell_type": "markdown",
   "metadata": {},
   "source": [
    " Funcion para graficar  la densidad de las posiciones de los halos individuales  </p>\n",
    "\n"
   ]
  },
  {
   "cell_type": "code",
   "execution_count": 3,
   "metadata": {},
   "outputs": [],
   "source": [
    "def cartessian_projection(pos, figname):\n",
    "   fig, ax = plt.subplots(1, 2, figsize=(10,4))\n",
    "   ax[0].hist2d(pos['x[kpc]'], pos['y[kpc]'],  bins=np.linspace(-100,100,800), norm=LogNorm())\n",
    "   ax[1].hist2d(pos['x[kpc]'], pos['z[kpc]'],  bins=np.linspace(-100,100,800), norm=LogNorm())\n",
    "   ax[0].set_xlabel(\"x[kpc]\")\n",
    "   ax[0].set_ylabel(\"y[kpc]\")\n",
    "   ax[1].set_xlabel(\"x[kpc]\")\n",
    "   ax[1].set_ylabel(\"z[kpc]\")\n",
    "   # ax[0].\n",
    "   plt.savefig('./../media/imgs/'+figname +'.png', bbox_inches='tight', dpi = 900)\n",
    "\n",
    "\n",
    "   plt.close()\n",
    "   return 0\n",
    "\n",
    "\n",
    "def cartessian_projection2(pos,pos2, figname):\n",
    "   fig, ax = plt.subplots(1, 2, figsize=(10,4))\n",
    "   \n",
    "   ax[0].hist2d(pos2['x[kpc]'], pos2['y[kpc]'],  bins=np.linspace(-100,100,800), norm=LogNorm(), cmap = 'inferno')\n",
    "   ax[0].hist2d(pos['x[kpc]'], pos['y[kpc]'],  bins=np.linspace(-100,100,800), norm=LogNorm(), cmap='plasma' )\n",
    "   ax[1].hist2d(pos2['x[kpc]'], pos2['z[kpc]'],  bins=np.linspace(-100,100,800), norm=LogNorm())\n",
    "   ax[1].hist2d(pos['x[kpc]'], pos['z[kpc]'],  bins=np.linspace(-100,100,800), norm=LogNorm(),cmap='plasma')\n",
    "\n",
    "   ax[0].set_xlabel(\"x[kpc]\")\n",
    "   ax[0].set_ylabel(\"y[kpc]\")\n",
    "   ax[1].set_xlabel(\"x[kpc]\")\n",
    "   ax[1].set_ylabel(\"z[kpc]\") \n",
    "   plt.savefig('./../media/imgs/'+figname +'.png', bbox_inches='tight')\n",
    "\n",
    "\n",
    "   plt.close()\n",
    "   return 0\n"
   ]
  },
  {
   "cell_type": "markdown",
   "metadata": {},
   "source": [
    "## Lectura de datos"
   ]
  },
  {
   "cell_type": "code",
   "execution_count": 4,
   "metadata": {},
   "outputs": [],
   "source": [
    "reference = pd.read_csv('../data/raw_halo.txt', names=[\"x[kpc]\",\"y[kpc]\",\"z[kpc]\",\"vx[km/s]\",\"vy[km/s]\",\"vz[km/s]\"], sep=\" \")\n",
    "perturbed = pd.read_csv('../data/halo.txt', names=[\"x[kpc]\",\"y[kpc]\",\"z[kpc]\",\"vx[km/s]\",\"vy[km/s]\",\"vz[km/s]\"], sep=\" \")\n",
    "\n",
    "df = pd.DataFrame(reference)\n",
    "df2 = pd.DataFrame(perturbed)"
   ]
  },
  {
   "cell_type": "markdown",
   "metadata": {},
   "source": [
    "<p> Uso de la funcion 'cartesian_projection' para graficar </p>\n"
   ]
  },
  {
   "cell_type": "code",
   "execution_count": 5,
   "metadata": {},
   "outputs": [
    {
     "ename": "KeyboardInterrupt",
     "evalue": "",
     "output_type": "error",
     "traceback": [
      "\u001b[1;31m---------------------------------------------------------------------------\u001b[0m",
      "\u001b[1;31mKeyboardInterrupt\u001b[0m                         Traceback (most recent call last)",
      "\u001b[1;32mc:\\Users\\Stephanie Cely\\OneDrive - Universidad Nacional de Colombia (2)\\WakeFinder\\wakefinder\\src\\halo-movement.ipynb Cell 9\u001b[0m in \u001b[0;36m<cell line: 1>\u001b[1;34m()\u001b[0m\n\u001b[1;32m----> <a href='vscode-notebook-cell:/c%3A/Users/Stephanie%20Cely/OneDrive%20-%20Universidad%20Nacional%20de%20Colombia%20%282%29/WakeFinder/wakefinder/src/halo-movement.ipynb#ch0000008?line=0'>1</a>\u001b[0m cartessian_projection(df, \u001b[39m\"\u001b[39;49m\u001b[39mHalo_no_pertubado\u001b[39;49m\u001b[39m\"\u001b[39;49m)\n\u001b[0;32m      <a href='vscode-notebook-cell:/c%3A/Users/Stephanie%20Cely/OneDrive%20-%20Universidad%20Nacional%20de%20Colombia%20%282%29/WakeFinder/wakefinder/src/halo-movement.ipynb#ch0000008?line=1'>2</a>\u001b[0m cartessian_projection(df2, \u001b[39m\"\u001b[39m\u001b[39mHalo_pertubado\u001b[39m\u001b[39m\"\u001b[39m)\n",
      "\u001b[1;32mc:\\Users\\Stephanie Cely\\OneDrive - Universidad Nacional de Colombia (2)\\WakeFinder\\wakefinder\\src\\halo-movement.ipynb Cell 9\u001b[0m in \u001b[0;36mcartessian_projection\u001b[1;34m(pos, figname)\u001b[0m\n\u001b[0;32m      <a href='vscode-notebook-cell:/c%3A/Users/Stephanie%20Cely/OneDrive%20-%20Universidad%20Nacional%20de%20Colombia%20%282%29/WakeFinder/wakefinder/src/halo-movement.ipynb#ch0000008?line=7'>8</a>\u001b[0m ax[\u001b[39m1\u001b[39m]\u001b[39m.\u001b[39mset_ylabel(\u001b[39m\"\u001b[39m\u001b[39mz[kpc]\u001b[39m\u001b[39m\"\u001b[39m)\n\u001b[0;32m      <a href='vscode-notebook-cell:/c%3A/Users/Stephanie%20Cely/OneDrive%20-%20Universidad%20Nacional%20de%20Colombia%20%282%29/WakeFinder/wakefinder/src/halo-movement.ipynb#ch0000008?line=8'>9</a>\u001b[0m \u001b[39m# ax[0].\u001b[39;00m\n\u001b[1;32m---> <a href='vscode-notebook-cell:/c%3A/Users/Stephanie%20Cely/OneDrive%20-%20Universidad%20Nacional%20de%20Colombia%20%282%29/WakeFinder/wakefinder/src/halo-movement.ipynb#ch0000008?line=9'>10</a>\u001b[0m plt\u001b[39m.\u001b[39;49msavefig(\u001b[39m'\u001b[39;49m\u001b[39m./../media/imgs/\u001b[39;49m\u001b[39m'\u001b[39;49m\u001b[39m+\u001b[39;49mfigname \u001b[39m+\u001b[39;49m\u001b[39m'\u001b[39;49m\u001b[39m.svg\u001b[39;49m\u001b[39m'\u001b[39;49m, bbox_inches\u001b[39m=\u001b[39;49m\u001b[39m'\u001b[39;49m\u001b[39mtight\u001b[39;49m\u001b[39m'\u001b[39;49m, dpi \u001b[39m=\u001b[39;49m \u001b[39m300\u001b[39;49m)\n\u001b[0;32m     <a href='vscode-notebook-cell:/c%3A/Users/Stephanie%20Cely/OneDrive%20-%20Universidad%20Nacional%20de%20Colombia%20%282%29/WakeFinder/wakefinder/src/halo-movement.ipynb#ch0000008?line=12'>13</a>\u001b[0m plt\u001b[39m.\u001b[39mclose()\n\u001b[0;32m     <a href='vscode-notebook-cell:/c%3A/Users/Stephanie%20Cely/OneDrive%20-%20Universidad%20Nacional%20de%20Colombia%20%282%29/WakeFinder/wakefinder/src/halo-movement.ipynb#ch0000008?line=13'>14</a>\u001b[0m \u001b[39mreturn\u001b[39;00m \u001b[39m0\u001b[39m\n",
      "File \u001b[1;32mc:\\Users\\Stephanie Cely\\AppData\\Local\\Programs\\Python\\Python39\\lib\\site-packages\\matplotlib\\pyplot.py:966\u001b[0m, in \u001b[0;36msavefig\u001b[1;34m(*args, **kwargs)\u001b[0m\n\u001b[0;32m    963\u001b[0m \u001b[39m@_copy_docstring_and_deprecators\u001b[39m(Figure\u001b[39m.\u001b[39msavefig)\n\u001b[0;32m    964\u001b[0m \u001b[39mdef\u001b[39;00m \u001b[39msavefig\u001b[39m(\u001b[39m*\u001b[39margs, \u001b[39m*\u001b[39m\u001b[39m*\u001b[39mkwargs):\n\u001b[0;32m    965\u001b[0m     fig \u001b[39m=\u001b[39m gcf()\n\u001b[1;32m--> 966\u001b[0m     res \u001b[39m=\u001b[39m fig\u001b[39m.\u001b[39msavefig(\u001b[39m*\u001b[39margs, \u001b[39m*\u001b[39m\u001b[39m*\u001b[39mkwargs)\n\u001b[0;32m    967\u001b[0m     fig\u001b[39m.\u001b[39mcanvas\u001b[39m.\u001b[39mdraw_idle()   \u001b[39m# need this if 'transparent=True' to reset colors\u001b[39;00m\n\u001b[0;32m    968\u001b[0m     \u001b[39mreturn\u001b[39;00m res\n",
      "File \u001b[1;32mc:\\Users\\Stephanie Cely\\AppData\\Local\\Programs\\Python\\Python39\\lib\\site-packages\\matplotlib\\figure.py:3015\u001b[0m, in \u001b[0;36mFigure.savefig\u001b[1;34m(self, fname, transparent, **kwargs)\u001b[0m\n\u001b[0;32m   3012\u001b[0m         patch\u001b[39m.\u001b[39mset_facecolor(\u001b[39m'\u001b[39m\u001b[39mnone\u001b[39m\u001b[39m'\u001b[39m)\n\u001b[0;32m   3013\u001b[0m         patch\u001b[39m.\u001b[39mset_edgecolor(\u001b[39m'\u001b[39m\u001b[39mnone\u001b[39m\u001b[39m'\u001b[39m)\n\u001b[1;32m-> 3015\u001b[0m \u001b[39mself\u001b[39m\u001b[39m.\u001b[39mcanvas\u001b[39m.\u001b[39mprint_figure(fname, \u001b[39m*\u001b[39m\u001b[39m*\u001b[39mkwargs)\n\u001b[0;32m   3017\u001b[0m \u001b[39mif\u001b[39;00m transparent:\n\u001b[0;32m   3018\u001b[0m     \u001b[39mfor\u001b[39;00m ax, cc \u001b[39min\u001b[39;00m \u001b[39mzip\u001b[39m(\u001b[39mself\u001b[39m\u001b[39m.\u001b[39maxes, original_axes_colors):\n",
      "File \u001b[1;32mc:\\Users\\Stephanie Cely\\AppData\\Local\\Programs\\Python\\Python39\\lib\\site-packages\\matplotlib\\backend_bases.py:2255\u001b[0m, in \u001b[0;36mFigureCanvasBase.print_figure\u001b[1;34m(self, filename, dpi, facecolor, edgecolor, orientation, format, bbox_inches, pad_inches, bbox_extra_artists, backend, **kwargs)\u001b[0m\n\u001b[0;32m   2251\u001b[0m \u001b[39mtry\u001b[39;00m:\n\u001b[0;32m   2252\u001b[0m     \u001b[39m# _get_renderer may change the figure dpi (as vector formats\u001b[39;00m\n\u001b[0;32m   2253\u001b[0m     \u001b[39m# force the figure dpi to 72), so we need to set it again here.\u001b[39;00m\n\u001b[0;32m   2254\u001b[0m     \u001b[39mwith\u001b[39;00m cbook\u001b[39m.\u001b[39m_setattr_cm(\u001b[39mself\u001b[39m\u001b[39m.\u001b[39mfigure, dpi\u001b[39m=\u001b[39mdpi):\n\u001b[1;32m-> 2255\u001b[0m         result \u001b[39m=\u001b[39m print_method(\n\u001b[0;32m   2256\u001b[0m             filename,\n\u001b[0;32m   2257\u001b[0m             facecolor\u001b[39m=\u001b[39mfacecolor,\n\u001b[0;32m   2258\u001b[0m             edgecolor\u001b[39m=\u001b[39medgecolor,\n\u001b[0;32m   2259\u001b[0m             orientation\u001b[39m=\u001b[39morientation,\n\u001b[0;32m   2260\u001b[0m             bbox_inches_restore\u001b[39m=\u001b[39m_bbox_inches_restore,\n\u001b[0;32m   2261\u001b[0m             \u001b[39m*\u001b[39m\u001b[39m*\u001b[39mkwargs)\n\u001b[0;32m   2262\u001b[0m \u001b[39mfinally\u001b[39;00m:\n\u001b[0;32m   2263\u001b[0m     \u001b[39mif\u001b[39;00m bbox_inches \u001b[39mand\u001b[39;00m restore_bbox:\n",
      "File \u001b[1;32mc:\\Users\\Stephanie Cely\\AppData\\Local\\Programs\\Python\\Python39\\lib\\site-packages\\matplotlib\\backends\\backend_svg.py:1333\u001b[0m, in \u001b[0;36mFigureCanvasSVG.print_svg\u001b[1;34m(self, filename, *args, **kwargs)\u001b[0m\n\u001b[0;32m   1330\u001b[0m     fh \u001b[39m=\u001b[39m TextIOWrapper(fh, \u001b[39m'\u001b[39m\u001b[39mutf-8\u001b[39m\u001b[39m'\u001b[39m)\n\u001b[0;32m   1331\u001b[0m     detach \u001b[39m=\u001b[39m \u001b[39mTrue\u001b[39;00m\n\u001b[1;32m-> 1333\u001b[0m \u001b[39mself\u001b[39m\u001b[39m.\u001b[39m_print_svg(filename, fh, \u001b[39m*\u001b[39m\u001b[39m*\u001b[39mkwargs)\n\u001b[0;32m   1335\u001b[0m \u001b[39m# Detach underlying stream from wrapper so that it remains open in\u001b[39;00m\n\u001b[0;32m   1336\u001b[0m \u001b[39m# the caller.\u001b[39;00m\n\u001b[0;32m   1337\u001b[0m \u001b[39mif\u001b[39;00m detach:\n",
      "File \u001b[1;32mc:\\Users\\Stephanie Cely\\AppData\\Local\\Programs\\Python\\Python39\\lib\\site-packages\\matplotlib\\backend_bases.py:1669\u001b[0m, in \u001b[0;36m_check_savefig_extra_args.<locals>.wrapper\u001b[1;34m(*args, **kwargs)\u001b[0m\n\u001b[0;32m   1661\u001b[0m     _api\u001b[39m.\u001b[39mwarn_deprecated(\n\u001b[0;32m   1662\u001b[0m         \u001b[39m'\u001b[39m\u001b[39m3.3\u001b[39m\u001b[39m'\u001b[39m, name\u001b[39m=\u001b[39mname,\n\u001b[0;32m   1663\u001b[0m         message\u001b[39m=\u001b[39m\u001b[39m'\u001b[39m\u001b[39m%(name)s\u001b[39;00m\u001b[39m() got unexpected keyword argument \u001b[39m\u001b[39m\"\u001b[39m\u001b[39m'\u001b[39m\n\u001b[0;32m   1664\u001b[0m                 \u001b[39m+\u001b[39m arg \u001b[39m+\u001b[39m \u001b[39m'\u001b[39m\u001b[39m\"\u001b[39m\u001b[39m which is no longer supported as of \u001b[39m\u001b[39m'\u001b[39m\n\u001b[0;32m   1665\u001b[0m                 \u001b[39m'\u001b[39m\u001b[39m%(since)s\u001b[39;00m\u001b[39m and will become an error \u001b[39m\u001b[39m'\u001b[39m\n\u001b[0;32m   1666\u001b[0m                 \u001b[39m'\u001b[39m\u001b[39m%(removal)s\u001b[39;00m\u001b[39m'\u001b[39m)\n\u001b[0;32m   1667\u001b[0m     kwargs\u001b[39m.\u001b[39mpop(arg)\n\u001b[1;32m-> 1669\u001b[0m \u001b[39mreturn\u001b[39;00m func(\u001b[39m*\u001b[39margs, \u001b[39m*\u001b[39m\u001b[39m*\u001b[39mkwargs)\n",
      "File \u001b[1;32mc:\\Users\\Stephanie Cely\\AppData\\Local\\Programs\\Python\\Python39\\lib\\site-packages\\matplotlib\\_api\\deprecation.py:431\u001b[0m, in \u001b[0;36mdelete_parameter.<locals>.wrapper\u001b[1;34m(*inner_args, **inner_kwargs)\u001b[0m\n\u001b[0;32m    421\u001b[0m     deprecation_addendum \u001b[39m=\u001b[39m (\n\u001b[0;32m    422\u001b[0m         \u001b[39mf\u001b[39m\u001b[39m\"\u001b[39m\u001b[39mIf any parameter follows \u001b[39m\u001b[39m{\u001b[39;00mname\u001b[39m!r}\u001b[39;00m\u001b[39m, they should be passed as \u001b[39m\u001b[39m\"\u001b[39m\n\u001b[0;32m    423\u001b[0m         \u001b[39mf\u001b[39m\u001b[39m\"\u001b[39m\u001b[39mkeyword, not positionally.\u001b[39m\u001b[39m\"\u001b[39m)\n\u001b[0;32m    424\u001b[0m     warn_deprecated(\n\u001b[0;32m    425\u001b[0m         since,\n\u001b[0;32m    426\u001b[0m         name\u001b[39m=\u001b[39m\u001b[39mrepr\u001b[39m(name),\n\u001b[1;32m   (...)\u001b[0m\n\u001b[0;32m    429\u001b[0m                  \u001b[39melse\u001b[39;00m deprecation_addendum,\n\u001b[0;32m    430\u001b[0m         \u001b[39m*\u001b[39m\u001b[39m*\u001b[39mkwargs)\n\u001b[1;32m--> 431\u001b[0m \u001b[39mreturn\u001b[39;00m func(\u001b[39m*\u001b[39minner_args, \u001b[39m*\u001b[39m\u001b[39m*\u001b[39minner_kwargs)\n",
      "File \u001b[1;32mc:\\Users\\Stephanie Cely\\AppData\\Local\\Programs\\Python\\Python39\\lib\\site-packages\\matplotlib\\backends\\backend_svg.py:1360\u001b[0m, in \u001b[0;36mFigureCanvasSVG._print_svg\u001b[1;34m(self, filename, fh, dpi, bbox_inches_restore, metadata)\u001b[0m\n\u001b[0;32m   1353\u001b[0m w, h \u001b[39m=\u001b[39m width \u001b[39m*\u001b[39m \u001b[39m72\u001b[39m, height \u001b[39m*\u001b[39m \u001b[39m72\u001b[39m\n\u001b[0;32m   1355\u001b[0m renderer \u001b[39m=\u001b[39m MixedModeRenderer(\n\u001b[0;32m   1356\u001b[0m     \u001b[39mself\u001b[39m\u001b[39m.\u001b[39mfigure, width, height, dpi,\n\u001b[0;32m   1357\u001b[0m     RendererSVG(w, h, fh, filename, dpi, metadata\u001b[39m=\u001b[39mmetadata),\n\u001b[0;32m   1358\u001b[0m     bbox_inches_restore\u001b[39m=\u001b[39mbbox_inches_restore)\n\u001b[1;32m-> 1360\u001b[0m \u001b[39mself\u001b[39;49m\u001b[39m.\u001b[39;49mfigure\u001b[39m.\u001b[39;49mdraw(renderer)\n\u001b[0;32m   1361\u001b[0m renderer\u001b[39m.\u001b[39mfinalize()\n",
      "File \u001b[1;32mc:\\Users\\Stephanie Cely\\AppData\\Local\\Programs\\Python\\Python39\\lib\\site-packages\\matplotlib\\artist.py:74\u001b[0m, in \u001b[0;36m_finalize_rasterization.<locals>.draw_wrapper\u001b[1;34m(artist, renderer, *args, **kwargs)\u001b[0m\n\u001b[0;32m     72\u001b[0m \u001b[39m@wraps\u001b[39m(draw)\n\u001b[0;32m     73\u001b[0m \u001b[39mdef\u001b[39;00m \u001b[39mdraw_wrapper\u001b[39m(artist, renderer, \u001b[39m*\u001b[39margs, \u001b[39m*\u001b[39m\u001b[39m*\u001b[39mkwargs):\n\u001b[1;32m---> 74\u001b[0m     result \u001b[39m=\u001b[39m draw(artist, renderer, \u001b[39m*\u001b[39margs, \u001b[39m*\u001b[39m\u001b[39m*\u001b[39mkwargs)\n\u001b[0;32m     75\u001b[0m     \u001b[39mif\u001b[39;00m renderer\u001b[39m.\u001b[39m_rasterizing:\n\u001b[0;32m     76\u001b[0m         renderer\u001b[39m.\u001b[39mstop_rasterizing()\n",
      "File \u001b[1;32mc:\\Users\\Stephanie Cely\\AppData\\Local\\Programs\\Python\\Python39\\lib\\site-packages\\matplotlib\\artist.py:51\u001b[0m, in \u001b[0;36mallow_rasterization.<locals>.draw_wrapper\u001b[1;34m(artist, renderer, *args, **kwargs)\u001b[0m\n\u001b[0;32m     48\u001b[0m     \u001b[39mif\u001b[39;00m artist\u001b[39m.\u001b[39mget_agg_filter() \u001b[39mis\u001b[39;00m \u001b[39mnot\u001b[39;00m \u001b[39mNone\u001b[39;00m:\n\u001b[0;32m     49\u001b[0m         renderer\u001b[39m.\u001b[39mstart_filter()\n\u001b[1;32m---> 51\u001b[0m     \u001b[39mreturn\u001b[39;00m draw(artist, renderer, \u001b[39m*\u001b[39margs, \u001b[39m*\u001b[39m\u001b[39m*\u001b[39mkwargs)\n\u001b[0;32m     52\u001b[0m \u001b[39mfinally\u001b[39;00m:\n\u001b[0;32m     53\u001b[0m     \u001b[39mif\u001b[39;00m artist\u001b[39m.\u001b[39mget_agg_filter() \u001b[39mis\u001b[39;00m \u001b[39mnot\u001b[39;00m \u001b[39mNone\u001b[39;00m:\n",
      "File \u001b[1;32mc:\\Users\\Stephanie Cely\\AppData\\Local\\Programs\\Python\\Python39\\lib\\site-packages\\matplotlib\\figure.py:2790\u001b[0m, in \u001b[0;36mFigure.draw\u001b[1;34m(self, renderer)\u001b[0m\n\u001b[0;32m   2787\u001b[0m         \u001b[39m# ValueError can occur when resizing a window.\u001b[39;00m\n\u001b[0;32m   2789\u001b[0m \u001b[39mself\u001b[39m\u001b[39m.\u001b[39mpatch\u001b[39m.\u001b[39mdraw(renderer)\n\u001b[1;32m-> 2790\u001b[0m mimage\u001b[39m.\u001b[39;49m_draw_list_compositing_images(\n\u001b[0;32m   2791\u001b[0m     renderer, \u001b[39mself\u001b[39;49m, artists, \u001b[39mself\u001b[39;49m\u001b[39m.\u001b[39;49msuppressComposite)\n\u001b[0;32m   2793\u001b[0m \u001b[39mfor\u001b[39;00m sfig \u001b[39min\u001b[39;00m \u001b[39mself\u001b[39m\u001b[39m.\u001b[39msubfigs:\n\u001b[0;32m   2794\u001b[0m     sfig\u001b[39m.\u001b[39mdraw(renderer)\n",
      "File \u001b[1;32mc:\\Users\\Stephanie Cely\\AppData\\Local\\Programs\\Python\\Python39\\lib\\site-packages\\matplotlib\\image.py:132\u001b[0m, in \u001b[0;36m_draw_list_compositing_images\u001b[1;34m(renderer, parent, artists, suppress_composite)\u001b[0m\n\u001b[0;32m    130\u001b[0m \u001b[39mif\u001b[39;00m not_composite \u001b[39mor\u001b[39;00m \u001b[39mnot\u001b[39;00m has_images:\n\u001b[0;32m    131\u001b[0m     \u001b[39mfor\u001b[39;00m a \u001b[39min\u001b[39;00m artists:\n\u001b[1;32m--> 132\u001b[0m         a\u001b[39m.\u001b[39;49mdraw(renderer)\n\u001b[0;32m    133\u001b[0m \u001b[39melse\u001b[39;00m:\n\u001b[0;32m    134\u001b[0m     \u001b[39m# Composite any adjacent images together\u001b[39;00m\n\u001b[0;32m    135\u001b[0m     image_group \u001b[39m=\u001b[39m []\n",
      "File \u001b[1;32mc:\\Users\\Stephanie Cely\\AppData\\Local\\Programs\\Python\\Python39\\lib\\site-packages\\matplotlib\\artist.py:51\u001b[0m, in \u001b[0;36mallow_rasterization.<locals>.draw_wrapper\u001b[1;34m(artist, renderer, *args, **kwargs)\u001b[0m\n\u001b[0;32m     48\u001b[0m     \u001b[39mif\u001b[39;00m artist\u001b[39m.\u001b[39mget_agg_filter() \u001b[39mis\u001b[39;00m \u001b[39mnot\u001b[39;00m \u001b[39mNone\u001b[39;00m:\n\u001b[0;32m     49\u001b[0m         renderer\u001b[39m.\u001b[39mstart_filter()\n\u001b[1;32m---> 51\u001b[0m     \u001b[39mreturn\u001b[39;00m draw(artist, renderer, \u001b[39m*\u001b[39margs, \u001b[39m*\u001b[39m\u001b[39m*\u001b[39mkwargs)\n\u001b[0;32m     52\u001b[0m \u001b[39mfinally\u001b[39;00m:\n\u001b[0;32m     53\u001b[0m     \u001b[39mif\u001b[39;00m artist\u001b[39m.\u001b[39mget_agg_filter() \u001b[39mis\u001b[39;00m \u001b[39mnot\u001b[39;00m \u001b[39mNone\u001b[39;00m:\n",
      "File \u001b[1;32mc:\\Users\\Stephanie Cely\\AppData\\Local\\Programs\\Python\\Python39\\lib\\site-packages\\matplotlib\\_api\\deprecation.py:431\u001b[0m, in \u001b[0;36mdelete_parameter.<locals>.wrapper\u001b[1;34m(*inner_args, **inner_kwargs)\u001b[0m\n\u001b[0;32m    421\u001b[0m     deprecation_addendum \u001b[39m=\u001b[39m (\n\u001b[0;32m    422\u001b[0m         \u001b[39mf\u001b[39m\u001b[39m\"\u001b[39m\u001b[39mIf any parameter follows \u001b[39m\u001b[39m{\u001b[39;00mname\u001b[39m!r}\u001b[39;00m\u001b[39m, they should be passed as \u001b[39m\u001b[39m\"\u001b[39m\n\u001b[0;32m    423\u001b[0m         \u001b[39mf\u001b[39m\u001b[39m\"\u001b[39m\u001b[39mkeyword, not positionally.\u001b[39m\u001b[39m\"\u001b[39m)\n\u001b[0;32m    424\u001b[0m     warn_deprecated(\n\u001b[0;32m    425\u001b[0m         since,\n\u001b[0;32m    426\u001b[0m         name\u001b[39m=\u001b[39m\u001b[39mrepr\u001b[39m(name),\n\u001b[1;32m   (...)\u001b[0m\n\u001b[0;32m    429\u001b[0m                  \u001b[39melse\u001b[39;00m deprecation_addendum,\n\u001b[0;32m    430\u001b[0m         \u001b[39m*\u001b[39m\u001b[39m*\u001b[39mkwargs)\n\u001b[1;32m--> 431\u001b[0m \u001b[39mreturn\u001b[39;00m func(\u001b[39m*\u001b[39minner_args, \u001b[39m*\u001b[39m\u001b[39m*\u001b[39minner_kwargs)\n",
      "File \u001b[1;32mc:\\Users\\Stephanie Cely\\AppData\\Local\\Programs\\Python\\Python39\\lib\\site-packages\\matplotlib\\axes\\_base.py:2921\u001b[0m, in \u001b[0;36m_AxesBase.draw\u001b[1;34m(self, renderer, inframe)\u001b[0m\n\u001b[0;32m   2918\u001b[0m         a\u001b[39m.\u001b[39mdraw(renderer)\n\u001b[0;32m   2919\u001b[0m     renderer\u001b[39m.\u001b[39mstop_rasterizing()\n\u001b[1;32m-> 2921\u001b[0m mimage\u001b[39m.\u001b[39;49m_draw_list_compositing_images(renderer, \u001b[39mself\u001b[39;49m, artists)\n\u001b[0;32m   2923\u001b[0m renderer\u001b[39m.\u001b[39mclose_group(\u001b[39m'\u001b[39m\u001b[39maxes\u001b[39m\u001b[39m'\u001b[39m)\n\u001b[0;32m   2924\u001b[0m \u001b[39mself\u001b[39m\u001b[39m.\u001b[39mstale \u001b[39m=\u001b[39m \u001b[39mFalse\u001b[39;00m\n",
      "File \u001b[1;32mc:\\Users\\Stephanie Cely\\AppData\\Local\\Programs\\Python\\Python39\\lib\\site-packages\\matplotlib\\image.py:132\u001b[0m, in \u001b[0;36m_draw_list_compositing_images\u001b[1;34m(renderer, parent, artists, suppress_composite)\u001b[0m\n\u001b[0;32m    130\u001b[0m \u001b[39mif\u001b[39;00m not_composite \u001b[39mor\u001b[39;00m \u001b[39mnot\u001b[39;00m has_images:\n\u001b[0;32m    131\u001b[0m     \u001b[39mfor\u001b[39;00m a \u001b[39min\u001b[39;00m artists:\n\u001b[1;32m--> 132\u001b[0m         a\u001b[39m.\u001b[39;49mdraw(renderer)\n\u001b[0;32m    133\u001b[0m \u001b[39melse\u001b[39;00m:\n\u001b[0;32m    134\u001b[0m     \u001b[39m# Composite any adjacent images together\u001b[39;00m\n\u001b[0;32m    135\u001b[0m     image_group \u001b[39m=\u001b[39m []\n",
      "File \u001b[1;32mc:\\Users\\Stephanie Cely\\AppData\\Local\\Programs\\Python\\Python39\\lib\\site-packages\\matplotlib\\artist.py:51\u001b[0m, in \u001b[0;36mallow_rasterization.<locals>.draw_wrapper\u001b[1;34m(artist, renderer, *args, **kwargs)\u001b[0m\n\u001b[0;32m     48\u001b[0m     \u001b[39mif\u001b[39;00m artist\u001b[39m.\u001b[39mget_agg_filter() \u001b[39mis\u001b[39;00m \u001b[39mnot\u001b[39;00m \u001b[39mNone\u001b[39;00m:\n\u001b[0;32m     49\u001b[0m         renderer\u001b[39m.\u001b[39mstart_filter()\n\u001b[1;32m---> 51\u001b[0m     \u001b[39mreturn\u001b[39;00m draw(artist, renderer, \u001b[39m*\u001b[39margs, \u001b[39m*\u001b[39m\u001b[39m*\u001b[39mkwargs)\n\u001b[0;32m     52\u001b[0m \u001b[39mfinally\u001b[39;00m:\n\u001b[0;32m     53\u001b[0m     \u001b[39mif\u001b[39;00m artist\u001b[39m.\u001b[39mget_agg_filter() \u001b[39mis\u001b[39;00m \u001b[39mnot\u001b[39;00m \u001b[39mNone\u001b[39;00m:\n",
      "File \u001b[1;32mc:\\Users\\Stephanie Cely\\AppData\\Local\\Programs\\Python\\Python39\\lib\\site-packages\\matplotlib\\collections.py:2133\u001b[0m, in \u001b[0;36mQuadMesh.draw\u001b[1;34m(self, renderer)\u001b[0m\n\u001b[0;32m   2130\u001b[0m     renderer\u001b[39m.\u001b[39mdraw_gouraud_triangles(\n\u001b[0;32m   2131\u001b[0m         gc, triangles, colors, transform\u001b[39m.\u001b[39mfrozen())\n\u001b[0;32m   2132\u001b[0m \u001b[39melse\u001b[39;00m:\n\u001b[1;32m-> 2133\u001b[0m     renderer\u001b[39m.\u001b[39;49mdraw_quad_mesh(\n\u001b[0;32m   2134\u001b[0m         gc, transform\u001b[39m.\u001b[39;49mfrozen(), \u001b[39mself\u001b[39;49m\u001b[39m.\u001b[39;49m_meshWidth, \u001b[39mself\u001b[39;49m\u001b[39m.\u001b[39;49m_meshHeight,\n\u001b[0;32m   2135\u001b[0m         coordinates, offsets, transOffset,\n\u001b[0;32m   2136\u001b[0m         \u001b[39m# Backends expect flattened rgba arrays (n*m, 4) for fc and ec\u001b[39;49;00m\n\u001b[0;32m   2137\u001b[0m         \u001b[39mself\u001b[39;49m\u001b[39m.\u001b[39;49mget_facecolor()\u001b[39m.\u001b[39;49mreshape((\u001b[39m-\u001b[39;49m\u001b[39m1\u001b[39;49m, \u001b[39m4\u001b[39;49m)),\n\u001b[0;32m   2138\u001b[0m         \u001b[39mself\u001b[39;49m\u001b[39m.\u001b[39;49m_antialiased, \u001b[39mself\u001b[39;49m\u001b[39m.\u001b[39;49mget_edgecolors()\u001b[39m.\u001b[39;49mreshape((\u001b[39m-\u001b[39;49m\u001b[39m1\u001b[39;49m, \u001b[39m4\u001b[39;49m)))\n\u001b[0;32m   2139\u001b[0m gc\u001b[39m.\u001b[39mrestore()\n\u001b[0;32m   2140\u001b[0m renderer\u001b[39m.\u001b[39mclose_group(\u001b[39mself\u001b[39m\u001b[39m.\u001b[39m\u001b[39m__class__\u001b[39m\u001b[39m.\u001b[39m\u001b[39m__name__\u001b[39m)\n",
      "File \u001b[1;32mc:\\Users\\Stephanie Cely\\AppData\\Local\\Programs\\Python\\Python39\\lib\\site-packages\\matplotlib\\backend_bases.py:281\u001b[0m, in \u001b[0;36mRendererBase.draw_quad_mesh\u001b[1;34m(self, gc, master_transform, meshWidth, meshHeight, coordinates, offsets, offsetTrans, facecolors, antialiased, edgecolors)\u001b[0m\n\u001b[0;32m    278\u001b[0m     edgecolors \u001b[39m=\u001b[39m facecolors\n\u001b[0;32m    279\u001b[0m linewidths \u001b[39m=\u001b[39m np\u001b[39m.\u001b[39marray([gc\u001b[39m.\u001b[39mget_linewidth()], \u001b[39mfloat\u001b[39m)\n\u001b[1;32m--> 281\u001b[0m \u001b[39mreturn\u001b[39;00m \u001b[39mself\u001b[39;49m\u001b[39m.\u001b[39;49mdraw_path_collection(\n\u001b[0;32m    282\u001b[0m     gc, master_transform, paths, [], offsets, offsetTrans, facecolors,\n\u001b[0;32m    283\u001b[0m     edgecolors, linewidths, [], [antialiased], [\u001b[39mNone\u001b[39;49;00m], \u001b[39m'\u001b[39;49m\u001b[39mscreen\u001b[39;49m\u001b[39m'\u001b[39;49m)\n",
      "File \u001b[1;32mc:\\Users\\Stephanie Cely\\AppData\\Local\\Programs\\Python\\Python39\\lib\\site-packages\\matplotlib\\backends\\backend_svg.py:738\u001b[0m, in \u001b[0;36mRendererSVG.draw_path_collection\u001b[1;34m(self, gc, master_transform, paths, all_transforms, offsets, offsetTrans, facecolors, edgecolors, linewidths, linestyles, antialiaseds, urls, offset_position)\u001b[0m\n\u001b[0;32m    735\u001b[0m should_do_optimization \u001b[39m=\u001b[39m \\\n\u001b[0;32m    736\u001b[0m     len_path \u001b[39m+\u001b[39m \u001b[39m9\u001b[39m \u001b[39m*\u001b[39m uses_per_path \u001b[39m+\u001b[39m \u001b[39m3\u001b[39m \u001b[39m<\u001b[39m (len_path \u001b[39m+\u001b[39m \u001b[39m5\u001b[39m) \u001b[39m*\u001b[39m uses_per_path\n\u001b[0;32m    737\u001b[0m \u001b[39mif\u001b[39;00m \u001b[39mnot\u001b[39;00m should_do_optimization:\n\u001b[1;32m--> 738\u001b[0m     \u001b[39mreturn\u001b[39;00m \u001b[39msuper\u001b[39;49m()\u001b[39m.\u001b[39;49mdraw_path_collection(\n\u001b[0;32m    739\u001b[0m         gc, master_transform, paths, all_transforms,\n\u001b[0;32m    740\u001b[0m         offsets, offsetTrans, facecolors, edgecolors,\n\u001b[0;32m    741\u001b[0m         linewidths, linestyles, antialiaseds, urls,\n\u001b[0;32m    742\u001b[0m         offset_position)\n\u001b[0;32m    744\u001b[0m writer \u001b[39m=\u001b[39m \u001b[39mself\u001b[39m\u001b[39m.\u001b[39mwriter\n\u001b[0;32m    745\u001b[0m path_codes \u001b[39m=\u001b[39m []\n",
      "File \u001b[1;32mc:\\Users\\Stephanie Cely\\AppData\\Local\\Programs\\Python\\Python39\\lib\\site-packages\\matplotlib\\backend_bases.py:263\u001b[0m, in \u001b[0;36mRendererBase.draw_path_collection\u001b[1;34m(self, gc, master_transform, paths, all_transforms, offsets, offsetTrans, facecolors, edgecolors, linewidths, linestyles, antialiaseds, urls, offset_position)\u001b[0m\n\u001b[0;32m    261\u001b[0m     transform \u001b[39m=\u001b[39m transform\u001b[39m.\u001b[39mfrozen()\n\u001b[0;32m    262\u001b[0m     transform\u001b[39m.\u001b[39mtranslate(xo, yo)\n\u001b[1;32m--> 263\u001b[0m \u001b[39mself\u001b[39;49m\u001b[39m.\u001b[39;49mdraw_path(gc0, path, transform, rgbFace)\n",
      "File \u001b[1;32mc:\\Users\\Stephanie Cely\\AppData\\Local\\Programs\\Python\\Python39\\lib\\site-packages\\matplotlib\\backends\\backend_svg.py:675\u001b[0m, in \u001b[0;36mRendererSVG.draw_path\u001b[1;34m(self, gc, path, transform, rgbFace)\u001b[0m\n\u001b[0;32m    673\u001b[0m \u001b[39mif\u001b[39;00m gc\u001b[39m.\u001b[39mget_url() \u001b[39mis\u001b[39;00m \u001b[39mnot\u001b[39;00m \u001b[39mNone\u001b[39;00m:\n\u001b[0;32m    674\u001b[0m     \u001b[39mself\u001b[39m\u001b[39m.\u001b[39mwriter\u001b[39m.\u001b[39mstart(\u001b[39m'\u001b[39m\u001b[39ma\u001b[39m\u001b[39m'\u001b[39m, {\u001b[39m'\u001b[39m\u001b[39mxlink:href\u001b[39m\u001b[39m'\u001b[39m: gc\u001b[39m.\u001b[39mget_url()})\n\u001b[1;32m--> 675\u001b[0m \u001b[39mself\u001b[39;49m\u001b[39m.\u001b[39;49mwriter\u001b[39m.\u001b[39;49melement(\u001b[39m'\u001b[39;49m\u001b[39mpath\u001b[39;49m\u001b[39m'\u001b[39;49m, d\u001b[39m=\u001b[39;49mpath_data, attrib\u001b[39m=\u001b[39;49mattrib)\n\u001b[0;32m    676\u001b[0m \u001b[39mif\u001b[39;00m gc\u001b[39m.\u001b[39mget_url() \u001b[39mis\u001b[39;00m \u001b[39mnot\u001b[39;00m \u001b[39mNone\u001b[39;00m:\n\u001b[0;32m    677\u001b[0m     \u001b[39mself\u001b[39m\u001b[39m.\u001b[39mwriter\u001b[39m.\u001b[39mend(\u001b[39m'\u001b[39m\u001b[39ma\u001b[39m\u001b[39m'\u001b[39m)\n",
      "File \u001b[1;32mc:\\Users\\Stephanie Cely\\AppData\\Local\\Programs\\Python\\Python39\\lib\\site-packages\\matplotlib\\backends\\backend_svg.py:238\u001b[0m, in \u001b[0;36mXMLWriter.element\u001b[1;34m(self, tag, text, attrib, **extra)\u001b[0m\n\u001b[0;32m    232\u001b[0m \u001b[39mdef\u001b[39;00m \u001b[39melement\u001b[39m(\u001b[39mself\u001b[39m, tag, text\u001b[39m=\u001b[39m\u001b[39mNone\u001b[39;00m, attrib\u001b[39m=\u001b[39m{}, \u001b[39m*\u001b[39m\u001b[39m*\u001b[39mextra):\n\u001b[0;32m    233\u001b[0m     \u001b[39m\"\"\"\u001b[39;00m\n\u001b[0;32m    234\u001b[0m \u001b[39m    Add an entire element.  This is the same as calling :meth:`start`,\u001b[39;00m\n\u001b[0;32m    235\u001b[0m \u001b[39m    :meth:`data`, and :meth:`end` in sequence. The *text* argument can be\u001b[39;00m\n\u001b[0;32m    236\u001b[0m \u001b[39m    omitted.\u001b[39;00m\n\u001b[0;32m    237\u001b[0m \u001b[39m    \"\"\"\u001b[39;00m\n\u001b[1;32m--> 238\u001b[0m     \u001b[39mself\u001b[39m\u001b[39m.\u001b[39mstart(tag, attrib, \u001b[39m*\u001b[39m\u001b[39m*\u001b[39mextra)\n\u001b[0;32m    239\u001b[0m     \u001b[39mif\u001b[39;00m text:\n\u001b[0;32m    240\u001b[0m         \u001b[39mself\u001b[39m\u001b[39m.\u001b[39mdata(text)\n",
      "File \u001b[1;32mc:\\Users\\Stephanie Cely\\AppData\\Local\\Programs\\Python\\Python39\\lib\\site-packages\\matplotlib\\backends\\backend_svg.py:163\u001b[0m, in \u001b[0;36mXMLWriter.start\u001b[1;34m(self, tag, attrib, **extra)\u001b[0m\n\u001b[0;32m    161\u001b[0m         k \u001b[39m=\u001b[39m escape_cdata(k)\n\u001b[0;32m    162\u001b[0m         v \u001b[39m=\u001b[39m escape_attrib(v)\n\u001b[1;32m--> 163\u001b[0m         \u001b[39mself\u001b[39;49m\u001b[39m.\u001b[39;49m__write(\u001b[39m'\u001b[39;49m\u001b[39m \u001b[39;49m\u001b[39m%s\u001b[39;49;00m\u001b[39m=\u001b[39;49m\u001b[39m\"\u001b[39;49m\u001b[39m%s\u001b[39;49;00m\u001b[39m\"\u001b[39;49m\u001b[39m'\u001b[39;49m \u001b[39m%\u001b[39;49m (k, v))\n\u001b[0;32m    164\u001b[0m \u001b[39mself\u001b[39m\u001b[39m.\u001b[39m__open \u001b[39m=\u001b[39m \u001b[39m1\u001b[39m\n\u001b[0;32m    165\u001b[0m \u001b[39mreturn\u001b[39;00m \u001b[39mlen\u001b[39m(\u001b[39mself\u001b[39m\u001b[39m.\u001b[39m__tags) \u001b[39m-\u001b[39m \u001b[39m1\u001b[39m\n",
      "\u001b[1;31mKeyboardInterrupt\u001b[0m: "
     ]
    },
    {
     "data": {
      "image/png": "[encoded data removed]",
      "text/plain": [
       "<Figure size 720x288 with 2 Axes>"
      ]
     },
     "metadata": {
      "needs_background": "light"
     },
     "output_type": "display_data"
    }
   ],
   "source": [
    "cartessian_projection(df, \"Halo_no_pertubado\")\n",
    "cartessian_projection(df2, \"Halo_pertubado\")\n"
   ]
  },
  {
   "cell_type": "markdown",
   "metadata": {},
   "source": [
    "<p> Calculo de los histogramas haciendo uso de la funcion 'histogram2d' de la libreria Numpy </p>"
   ]
  },
  {
   "cell_type": "code",
   "execution_count": 14,
   "metadata": {},
   "outputs": [],
   "source": [
    "\n",
    "density1 = np.histogram2d(df['x[kpc]'], df['y[kpc]'],  bins=np.linspace(-100,100,800) )\n",
    "# print(density1)\n",
    "density2 = np.histogram2d(df2['x[kpc]'], df2['y[kpc]'],  bins=np.linspace(-100,100,800))\n",
    "# print(\"Density background halo\",\"\\n\", density1[0],\"\\n\", \"Density halo movement\",\"\\n\", density2[0])\n",
    "\n",
    "# print(density1[0].shape)\n",
    "# print(density2[0].shape)"
   ]
  },
  {
   "cell_type": "markdown",
   "metadata": {},
   "source": [
    "<p>Division de las primeras columnas de cada matriz densidad. </p>"
   ]
  },
  {
   "cell_type": "code",
   "execution_count": 25,
   "metadata": {},
   "outputs": [
    {
     "name": "stdout",
     "output_type": "stream",
     "text": [
      "nparticles first element \n",
      " 1.0 dimension (799, 799)\n",
      "Density Shape (799, 799)\n",
      "density \n",
      " [[0.00000000e+00 0.00000000e+00 0.00000000e+00 ... 0.00000000e+00\n",
      "  0.00000000e+00 0.00000000e+00]\n",
      " [0.00000000e+00 0.00000000e+00 0.00000000e+00 ... 0.00000000e+00\n",
      "  0.00000000e+00 0.00000000e+00]\n",
      " [0.00000000e+00 0.00000000e+00 2.79919900e-05 ... 0.00000000e+00\n",
      "  0.00000000e+00 1.54725658e-01]\n",
      " ...\n",
      " [0.00000000e+00 0.00000000e+00 0.00000000e+00 ... 0.00000000e+00\n",
      "  0.00000000e+00 2.79919900e-05]\n",
      " [0.00000000e+00 0.00000000e+00 2.79919900e-05 ... 0.00000000e+00\n",
      "  0.00000000e+00 0.00000000e+00]\n",
      " [0.00000000e+00 0.00000000e+00 5.59839800e-05 ... 0.00000000e+00\n",
      "  0.00000000e+00 0.00000000e+00]]\n"
     ]
    },
    {
     "ename": "AttributeError",
     "evalue": "'AxesImage' object has no property 'bmin'",
     "output_type": "error",
     "traceback": [
      "\u001b[1;31m---------------------------------------------------------------------------\u001b[0m",
      "\u001b[1;31mAttributeError\u001b[0m                            Traceback (most recent call last)",
      "\u001b[1;32mc:\\Users\\Stephanie Cely\\OneDrive - Universidad Nacional de Colombia (2)\\WakeFinder\\wakefinder\\src\\halo-movement.ipynb Cell 14\u001b[0m in \u001b[0;36m<cell line: 37>\u001b[1;34m()\u001b[0m\n\u001b[0;32m     <a href='vscode-notebook-cell:/c%3A/Users/Stephanie%20Cely/OneDrive%20-%20Universidad%20Nacional%20de%20Colombia%20%282%29/WakeFinder/wakefinder/src/halo-movement.ipynb#ch0000019?line=33'>34</a>\u001b[0m     plt\u001b[39m.\u001b[39mclose()\n\u001b[0;32m     <a href='vscode-notebook-cell:/c%3A/Users/Stephanie%20Cely/OneDrive%20-%20Universidad%20Nacional%20de%20Colombia%20%282%29/WakeFinder/wakefinder/src/halo-movement.ipynb#ch0000019?line=34'>35</a>\u001b[0m     \u001b[39mreturn\u001b[39;00m \u001b[39m0\u001b[39m\n\u001b[1;32m---> <a href='vscode-notebook-cell:/c%3A/Users/Stephanie%20Cely/OneDrive%20-%20Universidad%20Nacional%20de%20Colombia%20%282%29/WakeFinder/wakefinder/src/halo-movement.ipynb#ch0000019?line=36'>37</a>\u001b[0m cartessian_projection3(density, \u001b[39m\"\u001b[39;49m\u001b[39mdensity_halo\u001b[39;49m\u001b[39m\"\u001b[39;49m)\n\u001b[0;32m     <a href='vscode-notebook-cell:/c%3A/Users/Stephanie%20Cely/OneDrive%20-%20Universidad%20Nacional%20de%20Colombia%20%282%29/WakeFinder/wakefinder/src/halo-movement.ipynb#ch0000019?line=37'>38</a>\u001b[0m cartessian_projection3(nparticles\u001b[39m/\u001b[39mnparticles2\u001b[39m-\u001b[39m\u001b[39m1\u001b[39m, \u001b[39m\"\u001b[39m\u001b[39mdivision\u001b[39m\u001b[39m\"\u001b[39m)\n",
      "\u001b[1;32mc:\\Users\\Stephanie Cely\\OneDrive - Universidad Nacional de Colombia (2)\\WakeFinder\\wakefinder\\src\\halo-movement.ipynb Cell 14\u001b[0m in \u001b[0;36mcartessian_projection3\u001b[1;34m(density, figname)\u001b[0m\n\u001b[0;32m     <a href='vscode-notebook-cell:/c%3A/Users/Stephanie%20Cely/OneDrive%20-%20Universidad%20Nacional%20de%20Colombia%20%282%29/WakeFinder/wakefinder/src/halo-movement.ipynb#ch0000019?line=26'>27</a>\u001b[0m \u001b[39mdef\u001b[39;00m \u001b[39mcartessian_projection3\u001b[39m (density, figname ):\n\u001b[0;32m     <a href='vscode-notebook-cell:/c%3A/Users/Stephanie%20Cely/OneDrive%20-%20Universidad%20Nacional%20de%20Colombia%20%282%29/WakeFinder/wakefinder/src/halo-movement.ipynb#ch0000019?line=27'>28</a>\u001b[0m     fig, ax \u001b[39m=\u001b[39m plt\u001b[39m.\u001b[39msubplots(\u001b[39m1\u001b[39m, \u001b[39m1\u001b[39m, figsize\u001b[39m=\u001b[39m(\u001b[39m10\u001b[39m,\u001b[39m4\u001b[39m))\n\u001b[1;32m---> <a href='vscode-notebook-cell:/c%3A/Users/Stephanie%20Cely/OneDrive%20-%20Universidad%20Nacional%20de%20Colombia%20%282%29/WakeFinder/wakefinder/src/halo-movement.ipynb#ch0000019?line=28'>29</a>\u001b[0m     im \u001b[39m=\u001b[39m ax\u001b[39m.\u001b[39;49mimshow(density,bmin \u001b[39m=\u001b[39;49m \u001b[39m-\u001b[39;49m\u001b[39m0.5\u001b[39;49m, bmax\u001b[39m=\u001b[39;49m\u001b[39m0.5\u001b[39;49m)\n\u001b[0;32m     <a href='vscode-notebook-cell:/c%3A/Users/Stephanie%20Cely/OneDrive%20-%20Universidad%20Nacional%20de%20Colombia%20%282%29/WakeFinder/wakefinder/src/halo-movement.ipynb#ch0000019?line=29'>30</a>\u001b[0m     plt\u001b[39m.\u001b[39mcolorbar(im)\n\u001b[0;32m     <a href='vscode-notebook-cell:/c%3A/Users/Stephanie%20Cely/OneDrive%20-%20Universidad%20Nacional%20de%20Colombia%20%282%29/WakeFinder/wakefinder/src/halo-movement.ipynb#ch0000019?line=30'>31</a>\u001b[0m     \u001b[39m# ax.set_xlabel\u001b[39;00m\n\u001b[0;32m     <a href='vscode-notebook-cell:/c%3A/Users/Stephanie%20Cely/OneDrive%20-%20Universidad%20Nacional%20de%20Colombia%20%282%29/WakeFinder/wakefinder/src/halo-movement.ipynb#ch0000019?line=31'>32</a>\u001b[0m     \u001b[39m# ax.set_ylabel(\"y[kpc]\")\u001b[39;00m\n",
      "File \u001b[1;32mc:\\Users\\Stephanie Cely\\AppData\\Local\\Programs\\Python\\Python39\\lib\\site-packages\\matplotlib\\__init__.py:1361\u001b[0m, in \u001b[0;36m_preprocess_data.<locals>.inner\u001b[1;34m(ax, data, *args, **kwargs)\u001b[0m\n\u001b[0;32m   1358\u001b[0m \u001b[39m@functools\u001b[39m\u001b[39m.\u001b[39mwraps(func)\n\u001b[0;32m   1359\u001b[0m \u001b[39mdef\u001b[39;00m \u001b[39minner\u001b[39m(ax, \u001b[39m*\u001b[39margs, data\u001b[39m=\u001b[39m\u001b[39mNone\u001b[39;00m, \u001b[39m*\u001b[39m\u001b[39m*\u001b[39mkwargs):\n\u001b[0;32m   1360\u001b[0m     \u001b[39mif\u001b[39;00m data \u001b[39mis\u001b[39;00m \u001b[39mNone\u001b[39;00m:\n\u001b[1;32m-> 1361\u001b[0m         \u001b[39mreturn\u001b[39;00m func(ax, \u001b[39m*\u001b[39m\u001b[39mmap\u001b[39m(sanitize_sequence, args), \u001b[39m*\u001b[39m\u001b[39m*\u001b[39mkwargs)\n\u001b[0;32m   1363\u001b[0m     bound \u001b[39m=\u001b[39m new_sig\u001b[39m.\u001b[39mbind(ax, \u001b[39m*\u001b[39margs, \u001b[39m*\u001b[39m\u001b[39m*\u001b[39mkwargs)\n\u001b[0;32m   1364\u001b[0m     auto_label \u001b[39m=\u001b[39m (bound\u001b[39m.\u001b[39marguments\u001b[39m.\u001b[39mget(label_namer)\n\u001b[0;32m   1365\u001b[0m                   \u001b[39mor\u001b[39;00m bound\u001b[39m.\u001b[39mkwargs\u001b[39m.\u001b[39mget(label_namer))\n",
      "File \u001b[1;32mc:\\Users\\Stephanie Cely\\AppData\\Local\\Programs\\Python\\Python39\\lib\\site-packages\\matplotlib\\axes\\_axes.py:5605\u001b[0m, in \u001b[0;36mAxes.imshow\u001b[1;34m(self, X, cmap, norm, aspect, interpolation, alpha, vmin, vmax, origin, extent, filternorm, filterrad, resample, url, **kwargs)\u001b[0m\n\u001b[0;32m   5603\u001b[0m     aspect \u001b[39m=\u001b[39m rcParams[\u001b[39m'\u001b[39m\u001b[39mimage.aspect\u001b[39m\u001b[39m'\u001b[39m]\n\u001b[0;32m   5604\u001b[0m \u001b[39mself\u001b[39m\u001b[39m.\u001b[39mset_aspect(aspect)\n\u001b[1;32m-> 5605\u001b[0m im \u001b[39m=\u001b[39m mimage\u001b[39m.\u001b[39mAxesImage(\u001b[39mself\u001b[39m, cmap, norm, interpolation, origin, extent,\n\u001b[0;32m   5606\u001b[0m                       filternorm\u001b[39m=\u001b[39mfilternorm, filterrad\u001b[39m=\u001b[39mfilterrad,\n\u001b[0;32m   5607\u001b[0m                       resample\u001b[39m=\u001b[39mresample, \u001b[39m*\u001b[39m\u001b[39m*\u001b[39mkwargs)\n\u001b[0;32m   5609\u001b[0m im\u001b[39m.\u001b[39mset_data(X)\n\u001b[0;32m   5610\u001b[0m im\u001b[39m.\u001b[39mset_alpha(alpha)\n",
      "File \u001b[1;32mc:\\Users\\Stephanie Cely\\AppData\\Local\\Programs\\Python\\Python39\\lib\\site-packages\\matplotlib\\image.py:900\u001b[0m, in \u001b[0;36mAxesImage.__init__\u001b[1;34m(self, ax, cmap, norm, interpolation, origin, extent, filternorm, filterrad, resample, **kwargs)\u001b[0m\n\u001b[0;32m    886\u001b[0m \u001b[39mdef\u001b[39;00m \u001b[39m__init__\u001b[39m(\u001b[39mself\u001b[39m, ax,\n\u001b[0;32m    887\u001b[0m              cmap\u001b[39m=\u001b[39m\u001b[39mNone\u001b[39;00m,\n\u001b[0;32m    888\u001b[0m              norm\u001b[39m=\u001b[39m\u001b[39mNone\u001b[39;00m,\n\u001b[1;32m   (...)\u001b[0m\n\u001b[0;32m    895\u001b[0m              \u001b[39m*\u001b[39m\u001b[39m*\u001b[39mkwargs\n\u001b[0;32m    896\u001b[0m              ):\n\u001b[0;32m    898\u001b[0m     \u001b[39mself\u001b[39m\u001b[39m.\u001b[39m_extent \u001b[39m=\u001b[39m extent\n\u001b[1;32m--> 900\u001b[0m     \u001b[39msuper\u001b[39m()\u001b[39m.\u001b[39m\u001b[39m__init__\u001b[39m(\n\u001b[0;32m    901\u001b[0m         ax,\n\u001b[0;32m    902\u001b[0m         cmap\u001b[39m=\u001b[39mcmap,\n\u001b[0;32m    903\u001b[0m         norm\u001b[39m=\u001b[39mnorm,\n\u001b[0;32m    904\u001b[0m         interpolation\u001b[39m=\u001b[39minterpolation,\n\u001b[0;32m    905\u001b[0m         origin\u001b[39m=\u001b[39morigin,\n\u001b[0;32m    906\u001b[0m         filternorm\u001b[39m=\u001b[39mfilternorm,\n\u001b[0;32m    907\u001b[0m         filterrad\u001b[39m=\u001b[39mfilterrad,\n\u001b[0;32m    908\u001b[0m         resample\u001b[39m=\u001b[39mresample,\n\u001b[0;32m    909\u001b[0m         \u001b[39m*\u001b[39m\u001b[39m*\u001b[39mkwargs\n\u001b[0;32m    910\u001b[0m     )\n",
      "File \u001b[1;32mc:\\Users\\Stephanie Cely\\AppData\\Local\\Programs\\Python\\Python39\\lib\\site-packages\\matplotlib\\image.py:257\u001b[0m, in \u001b[0;36m_ImageBase.__init__\u001b[1;34m(self, ax, cmap, norm, interpolation, origin, filternorm, filterrad, resample, **kwargs)\u001b[0m\n\u001b[0;32m    253\u001b[0m \u001b[39mself\u001b[39m\u001b[39m.\u001b[39maxes \u001b[39m=\u001b[39m ax\n\u001b[0;32m    255\u001b[0m \u001b[39mself\u001b[39m\u001b[39m.\u001b[39m_imcache \u001b[39m=\u001b[39m \u001b[39mNone\u001b[39;00m\n\u001b[1;32m--> 257\u001b[0m \u001b[39mself\u001b[39;49m\u001b[39m.\u001b[39;49mupdate(kwargs)\n",
      "File \u001b[1;32mc:\\Users\\Stephanie Cely\\AppData\\Local\\Programs\\Python\\Python39\\lib\\site-packages\\matplotlib\\artist.py:1062\u001b[0m, in \u001b[0;36mArtist.update\u001b[1;34m(self, props)\u001b[0m\n\u001b[0;32m   1060\u001b[0m             func \u001b[39m=\u001b[39m \u001b[39mgetattr\u001b[39m(\u001b[39mself\u001b[39m, \u001b[39mf\u001b[39m\u001b[39m\"\u001b[39m\u001b[39mset_\u001b[39m\u001b[39m{\u001b[39;00mk\u001b[39m}\u001b[39;00m\u001b[39m\"\u001b[39m, \u001b[39mNone\u001b[39;00m)\n\u001b[0;32m   1061\u001b[0m             \u001b[39mif\u001b[39;00m \u001b[39mnot\u001b[39;00m callable(func):\n\u001b[1;32m-> 1062\u001b[0m                 \u001b[39mraise\u001b[39;00m \u001b[39mAttributeError\u001b[39;00m(\u001b[39mf\u001b[39m\u001b[39m\"\u001b[39m\u001b[39m{\u001b[39;00m\u001b[39mtype\u001b[39m(\u001b[39mself\u001b[39m)\u001b[39m.\u001b[39m\u001b[39m__name__\u001b[39m\u001b[39m!r}\u001b[39;00m\u001b[39m object \u001b[39m\u001b[39m\"\u001b[39m\n\u001b[0;32m   1063\u001b[0m                                      \u001b[39mf\u001b[39m\u001b[39m\"\u001b[39m\u001b[39mhas no property \u001b[39m\u001b[39m{\u001b[39;00mk\u001b[39m!r}\u001b[39;00m\u001b[39m\"\u001b[39m)\n\u001b[0;32m   1064\u001b[0m             ret\u001b[39m.\u001b[39mappend(func(v))\n\u001b[0;32m   1065\u001b[0m \u001b[39mif\u001b[39;00m ret:\n",
      "\u001b[1;31mAttributeError\u001b[0m: 'AxesImage' object has no property 'bmin'"
     ]
    },
    {
     "data": {
      "image/png": "[encoded data removed]",
      "text/plain": [
       "<Figure size 720x288 with 1 Axes>"
      ]
     },
     "metadata": {
      "needs_background": "light"
     },
     "output_type": "display_data"
    }
   ],
   "source": [
    "nparticles = density1[0]\n",
    "nparticles2 = density2[0]\n",
    "\n",
    "#avoiding the division by zero\n",
    "for i in range(len(nparticles)):\n",
    "    for j in range(len(nparticles[i])):\n",
    "        if nparticles[i][j] == 0:\n",
    "            nparticles[i][j] = 1\n",
    "\n",
    "print(\"nparticles first element\", \"\\n\", nparticles[56][300], \"dimension\", nparticles.shape)\n",
    "density = np.divide(nparticles2,nparticles)\n",
    "print(\"Density Shape\", density.shape)\n",
    "\n",
    "print(\"density\", \"\\n\",density)\n",
    "def cartessian_projection3(pos, figname):\n",
    "    fig, ax = plt.subplots(1, 2, figsize=(10,4))\n",
    "    ax[0].hist2d(pos[:,0], pos[:,1],  bins=np.linspace(-100,100,800), norm=LogNorm())\n",
    "    ax[1].hist2d(pos[:,0], pos[:,2],  bins=np.linspace(-100,100,800), norm=LogNorm())\n",
    "    ax[0].set_xlabel(\"x[kpc]\")\n",
    "    ax[0].set_ylabel(\"y[kpc]\")\n",
    "    ax[1].set_xlabel(\"x[kpc]\")\n",
    "    ax[1].set_ylabel(\"z[kpc]\") \n",
    "    plt.savefig(figname, bbox_inches='tight')\n",
    "    plt.close()\n",
    "    return 0\n",
    "\n",
    "def cartessian_projection3 (density, figname ):\n",
    "    fig, ax = plt.subplots(1, 1, figsize=(10,4))\n",
    "    im = ax.imshow(density,bmin = -0.5, bmax=0.5)\n",
    "    plt.colorbar(im)\n",
    "    # ax.set_xlabel\n",
    "    # ax.set_ylabel(\"y[kpc]\")\n",
    "    plt.savefig(figname, bbox_inches='tight')\n",
    "    plt.close()\n",
    "    return 0\n",
    "\n",
    "# cartessian_projection3(density, \"density_halo\")\n",
    "cartessian_projection3(nparticles/nparticles2 -1, \"division\")"
   ]
  },
  {
   "cell_type": "code",
   "execution_count": 11,
   "metadata": {},
   "outputs": [],
   "source": [
    "\n",
    "\n",
    "# def densities(pos):\n",
    "#     np.histogram2d(pos['x[kpc]'], pos['y[kpc]'],  bins=np.linspace(-100,100,800), normed=LogNorm() )\n",
    "#     return 0\n",
    "# def cartessian_projection_1d(pos, figname):\n",
    "#    fig, ax = plt.subplots(1, 2, figsize=(10,4))\n",
    "#    ax[0].hist(pos['x[kpc]'],  bins=np.linspace(-100,100,800))\n",
    "#    ax[1].hist(pos['y[kpc]'],  bins=np.linspace(-100,100,800))\n",
    "#    #ax[1].hist2d(pos['x[kpc]'], pos['z[kpc]'],  bins=np.linspace(-100,100,800), norm=LogNorm())\n",
    "#    ax[0].set_xlabel(\"x[kpc]\")\n",
    "#    ax[0].set_ylabel(\"y[kpc]\")\n",
    "#    ax[1].set_xlabel(\"x[kpc]\")\n",
    "#    ax[1].set_ylabel(\"z[kpc]\") \n",
    "#    plt.savefig(figname, bbox_inches='tight')\n",
    "   \n",
    "\n",
    "#    plt.close()\n",
    "#    return 0\n",
    "\n",
    "# reference = pd.read_csv('../data/raw_halo.txt', names=[\"x[kpc]\",\"y[kpc]\",\"z[kpc]\",\"vx[km/s]\",\"vy[km/s]\",\"vz[km/s]\"], sep=\" \")\n",
    "# perturbed = pd.read_csv('../data/halo.txt', names=[\"x[kpc]\",\"y[kpc]\",\"z[kpc]\",\"vx[km/s]\",\"vy[km/s]\",\"vz[km/s]\"], sep=\" \")\n",
    "\n",
    "# df = pd.DataFrame(reference)\n",
    "# df2 = pd.DataFrame(perturbed)\n",
    "\n",
    "\n",
    "# cartessian_projection(df, \"Halo_no_pertubado\")\n",
    "# cartessian_projection(df2, \"Halo_pertubado\")\n",
    "# cartessian_projection(df.div(df2), 'comparacion1_2')\n",
    "# cartessian_projection(df2.div(df), 'comparacion2_1')\n",
    "# cartessian_projection(df2.rsub(df), 'comparacion_resta2_1')\n",
    "# cartessian_projection_1d(df, \"d1hist\")\n",
    "# #cartessian_projection2(df,df2, \"comparacion\");\n",
    "\n",
    "\n",
    "# def cartessian_projection3(pos, figname):\n",
    "#    fig, ax = plt.subplots(1, 2, figsize=(10,4))\n",
    "#    ax[0].hist2d(pos[:,0], pos[:,1],  bins=np.linspace(-100,100,800), norm=LogNorm())\n",
    "#    ax[1].hist2d(pos[:,0], pos[:,2],  bins=np.linspace(-100,100,800), norm=LogNorm())\n",
    "#    ax[0].set_xlabel(\"x[kpc]\")\n",
    "#    ax[0].set_ylabel(\"y[kpc]\")\n",
    "#    ax[1].set_xlabel(\"x[kpc]\")\n",
    "#    ax[1].set_ylabel(\"z[kpc]\") \n",
    "#    plt.savefig(figname, bbox_inches='tight')\n",
    "#    plt.close()\n",
    "#    return 0\n",
    "\n"
   ]
  },
  {
   "cell_type": "code",
   "execution_count": null,
   "metadata": {
    "id": "HU6IN6tiQ4IN"
   },
   "outputs": [],
   "source": []
  },
  {
   "cell_type": "markdown",
   "metadata": {
    "id": "H-6fZCFUQ4Q0"
   },
   "source": []
  },
  {
   "cell_type": "code",
   "execution_count": null,
   "metadata": {
    "id": "w7pZpXAbQ4dD"
   },
   "outputs": [],
   "source": []
  },
  {
   "cell_type": "code",
   "execution_count": 12,
   "metadata": {
    "colab": {
     "base_uri": "https://localhost:8080/",
     "height": 282
    },
    "id": "CKpf71nrFk7Q",
    "outputId": "53550dc4-fc8f-41f0-ce4c-01e2aade6fb0"
   },
   "outputs": [],
   "source": [
    "# import pandas as pd\n",
    "# import matplotlib.pyplot as plt\n",
    "# import seaborn as sns\n",
    "# from google.colab import files\n",
    "\n",
    "\n",
    "# reference = pd.read_csv('raw_halo.txt', names=[\"x[kpc]\",\"y[kpc]\",\"z[kpc]\",\"vx[km/s]\",\"vy[km/s]\",\"vz[km/s]\"], sep=\" \")\n",
    "# perturbed = pd.read_csv('halo.txt', names=[\"x[kpc]\",\"y[kpc]\",\"z[kpc]\",\"vx[km/s]\",\"vy[km/s]\",\"vz[km/s]\"], sep=\" \")\n",
    "\n",
    "# df = pd.DataFrame(reference)\n",
    "# df2 = pd.DataFrame(perturbed)\n",
    "\n",
    "# plt.subplot(1, 2, 1)\n",
    "# plt.scatter(df['x[kpc]'], df['vx[km/s]'], marker='o', s=0.01)\n",
    "# plt.axis('equal')\n",
    "\n",
    "# plt.subplot(1, 2, 2)\n",
    "# plt.scatter(df2['x[kpc]'], df2['vx[km/s]'], marker='o', s=0.01)\n",
    "# plt.axis('equal')\n",
    "# # ax.grid()\n",
    "\n",
    "\n",
    "# fig1 = plt.gcf()\n",
    "# plt.show() \n",
    "# plt.draw()\n",
    "# fig1.savefig('save2.png')\n",
    "\n",
    "# # data.plot(x='x[kpc]', y='y[kpc]', style=\"o\")\n",
    "# #print(df)\n",
    "# #print(df2)"
   ]
  }
 ],
 "metadata": {
  "colab": {
   "collapsed_sections": [],
   "name": "Halo-equilibrio.ipynb",
   "provenance": [],
   "toc_visible": true
  },
  "kernelspec": {
   "display_name": "Python 3.9.13 64-bit",
   "language": "python",
   "name": "python3"
  },
  "language_info": {
   "codemirror_mode": {
    "name": "ipython",
    "version": 3
   },
   "file_extension": ".py",
   "mimetype": "text/x-python",
   "name": "python",
   "nbconvert_exporter": "python",
   "pygments_lexer": "ipython3",
   "version": "3.9.13"
  },
  "vscode": {
   "interpreter": {
    "hash": "59ba741b21c64ff776073c75d9963c628afb8c1242aa735a0fb9bc09e688c20a"
   }
  }
 },
 "nbformat": 4,
 "nbformat_minor": 4
}
