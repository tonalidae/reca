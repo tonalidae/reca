{
 "cells": [
  {
   "cell_type": "code",
   "execution_count": null,
   "metadata": {},
   "outputs": [],
   "source": [
    "import pandas as pd\n",
    "import matplotlib.pyplot as plt\n",
    "from matplotlib.colors import LogNorm \n",
    "import numpy as np"
   ]
  },
  {
   "cell_type": "code",
   "execution_count": null,
   "metadata": {},
   "outputs": [],
   "source": [
    "reference = pd.read_csv('../data/rand_mwb1_110.txt', names=[\"x[kpc]\",\"y[kpc]\",\"z[kpc]\",\"vx[km/s]\",\"vy[km/s]\",\"vz[km/s]\"], sep=\" \")\n",
    "perturbed = pd.read_csv('../data/rand_mwlmc5b0_110.txt', names=[\"x[kpc]\",\"y[kpc]\",\"z[kpc]\",\"vx[km/s]\",\"vy[km/s]\",\"vz[km/s]\"], sep=\" \")\n",
    "\n",
    "df_mw = pd.DataFrame(reference)\n",
    "df_mw_lmc = pd.DataFrame(perturbed)\n",
    "# pos_mw = df_mw[0:3].to_numpy()\n",
    "mw = df_mw.to_numpy()\n",
    "# print(mw)\n",
    "pos_mw = mw[:,0:3] # position of particles in kpc\n",
    "vel_mw = mw[:,3:6] # units of km/s\n"
   ]
  },
  {
   "cell_type": "code",
   "execution_count": null,
   "metadata": {},
   "outputs": [],
   "source": [
    "\n",
    "print(\"Array de posiciones\", \"\\n\",pos_mw)\n",
    "#convert kpc units to km\n",
    "kpc_to_km = 3.086e16\n",
    "pos_mw_km = pos_mw * kpc_to_km\n",
    "print(\"Array de posiciones en km\", \"\\n\",pos_mw_km)\n",
    "\n",
    "# pos_mw_km.shape = (len(pos_mw[0]),3)\n",
    "# vel_mw.shape = (len(vel_mw[0]),3)\n",
    "\n",
    "\n",
    "#Calculate the angular momentum of the MW\n",
    "def ang_momentum(pos, vel):\n",
    "    L = np.cross(pos_mw_km, vel_mw)\n",
    "    L_mag = np.linalg.norm(ang_momentum, axis=1)\n",
    "    # print(\"Lx\", L[:,0])\n",
    "    return L, L_mag \n",
    "    # return L[:,0], L[:,1], L[:,2], L_mag\n",
    "\n",
    "#Calculate angular momentum for non perturbed halo:\n",
    "L_mw = ang_momentum(pos_mw_km, vel_mw)\n",
    "# print(\"Angular momentum of non perturbed halo\", \"\\n\",ang_momentum_mw)\n"
   ]
  },
  {
   "cell_type": "code",
   "execution_count": null,
   "metadata": {},
   "outputs": [],
   "source": [
    "\n",
    "\n"
   ]
  },
  {
   "cell_type": "code",
   "execution_count": null,
   "metadata": {},
   "outputs": [],
   "source": []
  }
 ],
 "metadata": {
  "kernelspec": {
   "display_name": "Python 3.9.13 64-bit",
   "language": "python",
   "name": "python3"
  },
  "language_info": {
   "codemirror_mode": {
    "name": "ipython",
    "version": 3
   },
   "file_extension": ".py",
   "mimetype": "text/x-python",
   "name": "python",
   "nbconvert_exporter": "python",
   "pygments_lexer": "ipython3",
   "version": "3.9.13"
  },
  "orig_nbformat": 4,
  "vscode": {
   "interpreter": {
    "hash": "59ba741b21c64ff776073c75d9963c628afb8c1242aa735a0fb9bc09e688c20a"
   }
  }
 },
 "nbformat": 4,
 "nbformat_minor": 2
}
