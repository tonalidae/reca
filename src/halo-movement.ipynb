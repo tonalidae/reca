{
 "cells": [
  {
   "cell_type": "markdown",
   "metadata": {},
   "source": []
  },
  {
   "cell_type": "markdown",
   "metadata": {},
   "source": [
    "# Histogramas de densidades en el halo de materia oscuro"
   ]
  },
  {
   "cell_type": "markdown",
   "metadata": {},
   "source": [
    "Importar librerias\n",
    "\n",
    "```{notebook}"
   ]
  },
  {
   "cell_type": "code",
   "execution_count": 8,
   "metadata": {
    "colab": {
     "base_uri": "https://localhost:8080/"
    },
    "id": "mQlAcDRtsC0u",
    "outputId": "e9d363d5-9757-40ea-8f45-3def7853029e"
   },
   "outputs": [],
   "source": [
    "import pandas as pd\n",
    "import matplotlib.pyplot as plt\n",
    "from matplotlib.colors import LogNorm \n",
    "import numpy as np\n",
    "# import seaborn as sns"
   ]
  },
  {
   "cell_type": "markdown",
   "metadata": {},
   "source": [
    " Funcion para graficar  la densidad de las posiciones de los halos individuales  </p>\n",
    "\n"
   ]
  },
  {
   "cell_type": "code",
   "execution_count": 9,
   "metadata": {},
   "outputs": [],
   "source": [
    "def cartessian_projection(pos, figname):\n",
    "   fig, ax = plt.subplots(1, 2, figsize=(10,4))\n",
    "   ax[0].hist2d(pos['x[kpc]'], pos['y[kpc]'],  bins=np.linspace(-100,100,800), norm=LogNorm())\n",
    "   ax[1].hist2d(pos['x[kpc]'], pos['z[kpc]'],  bins=np.linspace(-100,100,800), norm=LogNorm())\n",
    "   ax[0].set_xlabel(\"x[kpc]\")\n",
    "   ax[0].set_ylabel(\"y[kpc]\")\n",
    "   ax[1].set_xlabel(\"x[kpc]\")\n",
    "   ax[1].set_ylabel(\"z[kpc]\") \n",
    "   plt.savefig(figname, bbox_inches='tight')\n",
    "\n",
    "\n",
    "   plt.close()\n",
    "   return 0\n",
    "\n",
    "\n",
    "def cartessian_projection2(pos,pos2, figname):\n",
    "   fig, ax = plt.subplots(1, 2, figsize=(10,4))\n",
    "   \n",
    "   ax[0].hist2d(pos2['x[kpc]'], pos2['y[kpc]'],  bins=np.linspace(-100,100,800), norm=LogNorm(), cmap = 'inferno')\n",
    "   ax[0].hist2d(pos['x[kpc]'], pos['y[kpc]'],  bins=np.linspace(-100,100,800), norm=LogNorm(), cmap='plasma' )\n",
    "   ax[1].hist2d(pos2['x[kpc]'], pos2['z[kpc]'],  bins=np.linspace(-100,100,800), norm=LogNorm())\n",
    "   ax[1].hist2d(pos['x[kpc]'], pos['z[kpc]'],  bins=np.linspace(-100,100,800), norm=LogNorm(),cmap='plasma')\n",
    "\n",
    "   ax[0].set_xlabel(\"x[kpc]\")\n",
    "   ax[0].set_ylabel(\"y[kpc]\")\n",
    "   ax[1].set_xlabel(\"x[kpc]\")\n",
    "   ax[1].set_ylabel(\"z[kpc]\") \n",
    "   plt.savefig(figname, bbox_inches='tight')\n",
    "\n",
    "\n",
    "   plt.close()\n",
    "   return 0\n"
   ]
  },
  {
   "cell_type": "markdown",
   "metadata": {},
   "source": [
    "## Lectura de datos"
   ]
  },
  {
   "cell_type": "code",
   "execution_count": 10,
   "metadata": {},
   "outputs": [],
   "source": [
    "reference = pd.read_csv('raw_halo.txt', names=[\"x[kpc]\",\"y[kpc]\",\"z[kpc]\",\"vx[km/s]\",\"vy[km/s]\",\"vz[km/s]\"], sep=\" \")\n",
    "perturbed = pd.read_csv('halo.txt', names=[\"x[kpc]\",\"y[kpc]\",\"z[kpc]\",\"vx[km/s]\",\"vy[km/s]\",\"vz[km/s]\"], sep=\" \")\n",
    "\n",
    "df = pd.DataFrame(reference)\n",
    "df2 = pd.DataFrame(perturbed)"
   ]
  },
  {
   "cell_type": "markdown",
   "metadata": {},
   "source": [
    "<p> Uso de la funcion 'cartesian_projection' para graficar </p>\n"
   ]
  },
  {
   "cell_type": "code",
   "execution_count": 13,
   "metadata": {},
   "outputs": [
    {
     "data": {
      "text/plain": [
       "0"
      ]
     },
     "execution_count": 13,
     "metadata": {},
     "output_type": "execute_result"
    }
   ],
   "source": [
    "cartessian_projection(df, \"Halo_no_pertubado\")\n",
    "cartessian_projection(df2, \"Halo_pertubado\")\n",
    "# cartessian_projection(df.div(df2), 'comparacion1_2')\n",
    "# cartessian_projection(df2.div(df), 'comparacion2_1')\n",
    "# cartessian_projection(df2.rsub(df), 'comparacion_resta2_1')\n",
    "# cartessian_projection_1d(df, \"d1hist\")\n",
    "#cartessian_projection2(df,df2, \"comparacion\");"
   ]
  },
  {
   "cell_type": "markdown",
   "metadata": {},
   "source": [
    "<p> Calculo de los histogramas haciendo uso de la funcion 'histogram2d' de la libreria Numpy </p>"
   ]
  },
  {
   "cell_type": "code",
   "execution_count": 14,
   "metadata": {},
   "outputs": [],
   "source": [
    "\n",
    "density1 = np.histogram2d(df['x[kpc]'], df['y[kpc]'],  bins=np.linspace(-100,100,800), normed=LogNorm())\n",
    "# print(density1)\n",
    "density2 = np.histogram2d(df2['x[kpc]'], df2['y[kpc]'],  bins=np.linspace(-100,100,800), normed=LogNorm())\n",
    "# print(\"Density background halo\",\"\\n\", density1[0],\"\\n\", \"Density halo movement\",\"\\n\", density2[0])\n",
    "\n",
    "# print(density1[0].shape)\n",
    "# print(density2[0].shape)"
   ]
  },
  {
   "cell_type": "markdown",
   "metadata": {},
   "source": [
    "<p>Division de las primeras columnas de cada matriz densidad. </p>"
   ]
  },
  {
   "cell_type": "code",
   "execution_count": 17,
   "metadata": {},
   "outputs": [
    {
     "name": "stdout",
     "output_type": "stream",
     "text": [
      "nparticles first element \n",
      " 1.0 dimension (799, 799)\n",
      "density \n",
      " [[0.00000000e+00 0.00000000e+00 0.00000000e+00 ... 0.00000000e+00\n",
      "  0.00000000e+00 0.00000000e+00]\n",
      " [0.00000000e+00 0.00000000e+00 0.00000000e+00 ... 0.00000000e+00\n",
      "  0.00000000e+00 0.00000000e+00]\n",
      " [0.00000000e+00 0.00000000e+00 2.79919900e-05 ... 0.00000000e+00\n",
      "  0.00000000e+00 1.54725658e-01]\n",
      " ...\n",
      " [0.00000000e+00 0.00000000e+00 0.00000000e+00 ... 0.00000000e+00\n",
      "  0.00000000e+00 2.79919900e-05]\n",
      " [0.00000000e+00 0.00000000e+00 2.79919900e-05 ... 0.00000000e+00\n",
      "  0.00000000e+00 0.00000000e+00]\n",
      " [0.00000000e+00 0.00000000e+00 5.59839800e-05 ... 0.00000000e+00\n",
      "  0.00000000e+00 0.00000000e+00]]\n"
     ]
    }
   ],
   "source": [
    "nparticles = density1[0]\n",
    "nparticles2 = density2[0]\n",
    "\n",
    "#avoiding the division by zero\n",
    "for i in range(len(nparticles)):\n",
    "    for j in range(len(nparticles[i])):\n",
    "        if nparticles[i][j] == 0:\n",
    "            nparticles[i][j] = 1\n",
    "\n",
    "print(\"nparticles first element\", \"\\n\", nparticles[56][300], \"dimension\", nparticles.shape)\n",
    "density = np.divide(density2[0],density1[0])\n",
    "print(\"Density Shape\", density.shape)\n",
    "\n",
    "print(\"density\", \"\\n\",density)\n",
    "def cartessian_projection3(pos, figname):\n",
    "    fig, ax = plt.subplots(1, 2, figsize=(10,4))\n",
    "    ax[0].hist2d(pos[:,0], pos[:,1],  bins=np.linspace(-100,100,800), norm=LogNorm())\n",
    "    ax[1].hist2d(pos[:,0], pos[:,2],  bins=np.linspace(-100,100,800), norm=LogNorm())\n",
    "    ax[0].set_xlabel(\"x[kpc]\")\n",
    "    ax[0].set_ylabel(\"y[kpc]\")\n",
    "    ax[1].set_xlabel(\"x[kpc]\")\n",
    "    ax[1].set_ylabel(\"z[kpc]\") \n",
    "    plt.savefig(figname, bbox_inches='tight')\n",
    "    plt.close()\n",
    "    return 0"
   ]
  },
  {
   "cell_type": "code",
   "execution_count": 11,
   "metadata": {},
   "outputs": [],
   "source": [
    "\n",
    "\n",
    "# def densities(pos):\n",
    "#     np.histogram2d(pos['x[kpc]'], pos['y[kpc]'],  bins=np.linspace(-100,100,800), normed=LogNorm() )\n",
    "#     return 0\n",
    "# def cartessian_projection_1d(pos, figname):\n",
    "#    fig, ax = plt.subplots(1, 2, figsize=(10,4))\n",
    "#    ax[0].hist(pos['x[kpc]'],  bins=np.linspace(-100,100,800))\n",
    "#    ax[1].hist(pos['y[kpc]'],  bins=np.linspace(-100,100,800))\n",
    "#    #ax[1].hist2d(pos['x[kpc]'], pos['z[kpc]'],  bins=np.linspace(-100,100,800), norm=LogNorm())\n",
    "#    ax[0].set_xlabel(\"x[kpc]\")\n",
    "#    ax[0].set_ylabel(\"y[kpc]\")\n",
    "#    ax[1].set_xlabel(\"x[kpc]\")\n",
    "#    ax[1].set_ylabel(\"z[kpc]\") \n",
    "#    plt.savefig(figname, bbox_inches='tight')\n",
    "   \n",
    "\n",
    "#    plt.close()\n",
    "#    return 0\n",
    "\n",
    "# reference = pd.read_csv('../data/raw_halo.txt', names=[\"x[kpc]\",\"y[kpc]\",\"z[kpc]\",\"vx[km/s]\",\"vy[km/s]\",\"vz[km/s]\"], sep=\" \")\n",
    "# perturbed = pd.read_csv('../data/halo.txt', names=[\"x[kpc]\",\"y[kpc]\",\"z[kpc]\",\"vx[km/s]\",\"vy[km/s]\",\"vz[km/s]\"], sep=\" \")\n",
    "\n",
    "# df = pd.DataFrame(reference)\n",
    "# df2 = pd.DataFrame(perturbed)\n",
    "\n",
    "\n",
    "# cartessian_projection(df, \"Halo_no_pertubado\")\n",
    "# cartessian_projection(df2, \"Halo_pertubado\")\n",
    "# cartessian_projection(df.div(df2), 'comparacion1_2')\n",
    "# cartessian_projection(df2.div(df), 'comparacion2_1')\n",
    "# cartessian_projection(df2.rsub(df), 'comparacion_resta2_1')\n",
    "# cartessian_projection_1d(df, \"d1hist\")\n",
    "# #cartessian_projection2(df,df2, \"comparacion\");\n",
    "\n",
    "\n",
    "# def cartessian_projection3(pos, figname):\n",
    "#    fig, ax = plt.subplots(1, 2, figsize=(10,4))\n",
    "#    ax[0].hist2d(pos[:,0], pos[:,1],  bins=np.linspace(-100,100,800), norm=LogNorm())\n",
    "#    ax[1].hist2d(pos[:,0], pos[:,2],  bins=np.linspace(-100,100,800), norm=LogNorm())\n",
    "#    ax[0].set_xlabel(\"x[kpc]\")\n",
    "#    ax[0].set_ylabel(\"y[kpc]\")\n",
    "#    ax[1].set_xlabel(\"x[kpc]\")\n",
    "#    ax[1].set_ylabel(\"z[kpc]\") \n",
    "#    plt.savefig(figname, bbox_inches='tight')\n",
    "#    plt.close()\n",
    "#    return 0\n",
    "\n"
   ]
  },
  {
   "cell_type": "code",
   "execution_count": null,
   "metadata": {
    "id": "HU6IN6tiQ4IN"
   },
   "outputs": [],
   "source": []
  },
  {
   "cell_type": "markdown",
   "metadata": {
    "id": "H-6fZCFUQ4Q0"
   },
   "source": []
  },
  {
   "cell_type": "code",
   "execution_count": null,
   "metadata": {
    "id": "w7pZpXAbQ4dD"
   },
   "outputs": [],
   "source": []
  },
  {
   "cell_type": "code",
   "execution_count": 12,
   "metadata": {
    "colab": {
     "base_uri": "https://localhost:8080/",
     "height": 282
    },
    "id": "CKpf71nrFk7Q",
    "outputId": "53550dc4-fc8f-41f0-ce4c-01e2aade6fb0"
   },
   "outputs": [],
   "source": [
    "# import pandas as pd\n",
    "# import matplotlib.pyplot as plt\n",
    "# import seaborn as sns\n",
    "# from google.colab import files\n",
    "\n",
    "\n",
    "# reference = pd.read_csv('raw_halo.txt', names=[\"x[kpc]\",\"y[kpc]\",\"z[kpc]\",\"vx[km/s]\",\"vy[km/s]\",\"vz[km/s]\"], sep=\" \")\n",
    "# perturbed = pd.read_csv('halo.txt', names=[\"x[kpc]\",\"y[kpc]\",\"z[kpc]\",\"vx[km/s]\",\"vy[km/s]\",\"vz[km/s]\"], sep=\" \")\n",
    "\n",
    "# df = pd.DataFrame(reference)\n",
    "# df2 = pd.DataFrame(perturbed)\n",
    "\n",
    "# plt.subplot(1, 2, 1)\n",
    "# plt.scatter(df['x[kpc]'], df['vx[km/s]'], marker='o', s=0.01)\n",
    "# plt.axis('equal')\n",
    "\n",
    "# plt.subplot(1, 2, 2)\n",
    "# plt.scatter(df2['x[kpc]'], df2['vx[km/s]'], marker='o', s=0.01)\n",
    "# plt.axis('equal')\n",
    "# # ax.grid()\n",
    "\n",
    "\n",
    "# fig1 = plt.gcf()\n",
    "# plt.show() \n",
    "# plt.draw()\n",
    "# fig1.savefig('save2.png')\n",
    "\n",
    "# # data.plot(x='x[kpc]', y='y[kpc]', style=\"o\")\n",
    "# #print(df)\n",
    "# #print(df2)"
   ]
  }
 ],
 "metadata": {
  "colab": {
   "collapsed_sections": [],
   "name": "Halo-equilibrio.ipynb",
   "provenance": [],
   "toc_visible": true
  },
  "kernelspec": {
   "display_name": "Python 3.9.13 64-bit",
   "language": "python",
   "name": "python3"
  },
  "language_info": {
   "codemirror_mode": {
    "name": "ipython",
    "version": 3
   },
   "file_extension": ".py",
   "mimetype": "text/x-python",
   "name": "python",
   "nbconvert_exporter": "python",
   "pygments_lexer": "ipython3",
   "version": "3.9.13"
  },
  "vscode": {
   "interpreter": {
    "hash": "59ba741b21c64ff776073c75d9963c628afb8c1242aa735a0fb9bc09e688c20a"
   }
  }
 },
 "nbformat": 4,
 "nbformat_minor": 4
}
