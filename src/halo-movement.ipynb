{
 "cells": [
  {
   "cell_type": "markdown",
   "metadata": {},
   "source": []
  },
  {
   "cell_type": "markdown",
   "metadata": {},
   "source": [
    "# Histogramas de densidades en el halo de materia oscuro"
   ]
  },
  {
   "cell_type": "markdown",
   "metadata": {},
   "source": [
    "Importar librerias\n",
    "\n",
    "```{notebook}"
   ]
  },
  {
   "cell_type": "code",
   "execution_count": 1,
   "metadata": {
    "colab": {
     "base_uri": "https://localhost:8080/"
    },
    "id": "mQlAcDRtsC0u",
    "outputId": "e9d363d5-9757-40ea-8f45-3def7853029e"
   },
   "outputs": [],
   "source": [
    "import pandas as pd\n",
    "import matplotlib.pyplot as plt\n",
    "from matplotlib.colors import LogNorm \n",
    "import numpy as np\n",
    "# import seaborn as sns"
   ]
  },
  {
   "cell_type": "markdown",
   "metadata": {},
   "source": [
    " Funcion para graficar  la densidad de las posiciones de los halos individuales  </p>\n",
    "\n"
   ]
  },
  {
   "cell_type": "code",
   "execution_count": 2,
   "metadata": {},
   "outputs": [],
   "source": [
    "def cartessian_projection(pos, figname):\n",
    "   fig, ax = plt.subplots(1, 2, figsize=(10,4))\n",
    "   ax[0].hist2d(pos['x[kpc]'], pos['y[kpc]'],  bins=np.linspace(-100,100,800), norm=LogNorm())\n",
    "   ax[1].hist2d(pos['x[kpc]'], pos['z[kpc]'],  bins=np.linspace(-100,100,800), norm=LogNorm())\n",
    "   ax[0].set_xlabel(\"x[kpc]\")\n",
    "   ax[0].set_ylabel(\"y[kpc]\")\n",
    "   ax[1].set_xlabel(\"x[kpc]\")\n",
    "   ax[1].set_ylabel(\"z[kpc]\") \n",
    "   plt.savefig(figname, bbox_inches='tight')\n",
    "\n",
    "\n",
    "   plt.close()\n",
    "   return 0\n",
    "\n",
    "\n",
    "def cartessian_projection2(pos,pos2, figname):\n",
    "   fig, ax = plt.subplots(1, 2, figsize=(10,4))\n",
    "   \n",
    "   ax[0].hist2d(pos2['x[kpc]'], pos2['y[kpc]'],  bins=np.linspace(-100,100,800), norm=LogNorm(), cmap = 'inferno')\n",
    "   ax[0].hist2d(pos['x[kpc]'], pos['y[kpc]'],  bins=np.linspace(-100,100,800), norm=LogNorm(), cmap='plasma' )\n",
    "   ax[1].hist2d(pos2['x[kpc]'], pos2['z[kpc]'],  bins=np.linspace(-100,100,800), norm=LogNorm())\n",
    "   ax[1].hist2d(pos['x[kpc]'], pos['z[kpc]'],  bins=np.linspace(-100,100,800), norm=LogNorm(),cmap='plasma')\n",
    "\n",
    "   ax[0].set_xlabel(\"x[kpc]\")\n",
    "   ax[0].set_ylabel(\"y[kpc]\")\n",
    "   ax[1].set_xlabel(\"x[kpc]\")\n",
    "   ax[1].set_ylabel(\"z[kpc]\") \n",
    "   plt.savefig(figname, bbox_inches='tight')\n",
    "\n",
    "\n",
    "   plt.close()\n",
    "   return 0\n"
   ]
  },
  {
   "cell_type": "markdown",
   "metadata": {},
   "source": [
    "## Lectura de datos"
   ]
  },
  {
   "cell_type": "code",
   "execution_count": 3,
   "metadata": {},
   "outputs": [
    {
     "ename": "FileNotFoundError",
     "evalue": "[Errno 2] No such file or directory: 'raw_halo.txt'",
     "output_type": "error",
     "traceback": [
      "\u001b[1;31m---------------------------------------------------------------------------\u001b[0m",
      "\u001b[1;31mFileNotFoundError\u001b[0m                         Traceback (most recent call last)",
      "\u001b[1;32mc:\\Users\\Stephanie Cely\\OneDrive - Universidad Nacional de Colombia (2)\\WakeFinder\\wakefinder\\src\\halo-movement.ipynb Cell 8\u001b[0m in \u001b[0;36m<cell line: 1>\u001b[1;34m()\u001b[0m\n\u001b[1;32m----> <a href='vscode-notebook-cell:/c%3A/Users/Stephanie%20Cely/OneDrive%20-%20Universidad%20Nacional%20de%20Colombia%20%282%29/WakeFinder/wakefinder/src/halo-movement.ipynb#ch0000007?line=0'>1</a>\u001b[0m reference \u001b[39m=\u001b[39m pd\u001b[39m.\u001b[39;49mread_csv(\u001b[39m'\u001b[39;49m\u001b[39mraw_halo.txt\u001b[39;49m\u001b[39m'\u001b[39;49m, names\u001b[39m=\u001b[39;49m[\u001b[39m\"\u001b[39;49m\u001b[39mx[kpc]\u001b[39;49m\u001b[39m\"\u001b[39;49m,\u001b[39m\"\u001b[39;49m\u001b[39my[kpc]\u001b[39;49m\u001b[39m\"\u001b[39;49m,\u001b[39m\"\u001b[39;49m\u001b[39mz[kpc]\u001b[39;49m\u001b[39m\"\u001b[39;49m,\u001b[39m\"\u001b[39;49m\u001b[39mvx[km/s]\u001b[39;49m\u001b[39m\"\u001b[39;49m,\u001b[39m\"\u001b[39;49m\u001b[39mvy[km/s]\u001b[39;49m\u001b[39m\"\u001b[39;49m,\u001b[39m\"\u001b[39;49m\u001b[39mvz[km/s]\u001b[39;49m\u001b[39m\"\u001b[39;49m], sep\u001b[39m=\u001b[39;49m\u001b[39m\"\u001b[39;49m\u001b[39m \u001b[39;49m\u001b[39m\"\u001b[39;49m)\n\u001b[0;32m      <a href='vscode-notebook-cell:/c%3A/Users/Stephanie%20Cely/OneDrive%20-%20Universidad%20Nacional%20de%20Colombia%20%282%29/WakeFinder/wakefinder/src/halo-movement.ipynb#ch0000007?line=1'>2</a>\u001b[0m perturbed \u001b[39m=\u001b[39m pd\u001b[39m.\u001b[39mread_csv(\u001b[39m'\u001b[39m\u001b[39mhalo.txt\u001b[39m\u001b[39m'\u001b[39m, names\u001b[39m=\u001b[39m[\u001b[39m\"\u001b[39m\u001b[39mx[kpc]\u001b[39m\u001b[39m\"\u001b[39m,\u001b[39m\"\u001b[39m\u001b[39my[kpc]\u001b[39m\u001b[39m\"\u001b[39m,\u001b[39m\"\u001b[39m\u001b[39mz[kpc]\u001b[39m\u001b[39m\"\u001b[39m,\u001b[39m\"\u001b[39m\u001b[39mvx[km/s]\u001b[39m\u001b[39m\"\u001b[39m,\u001b[39m\"\u001b[39m\u001b[39mvy[km/s]\u001b[39m\u001b[39m\"\u001b[39m,\u001b[39m\"\u001b[39m\u001b[39mvz[km/s]\u001b[39m\u001b[39m\"\u001b[39m], sep\u001b[39m=\u001b[39m\u001b[39m\"\u001b[39m\u001b[39m \u001b[39m\u001b[39m\"\u001b[39m)\n\u001b[0;32m      <a href='vscode-notebook-cell:/c%3A/Users/Stephanie%20Cely/OneDrive%20-%20Universidad%20Nacional%20de%20Colombia%20%282%29/WakeFinder/wakefinder/src/halo-movement.ipynb#ch0000007?line=3'>4</a>\u001b[0m df \u001b[39m=\u001b[39m pd\u001b[39m.\u001b[39mDataFrame(reference)\n",
      "File \u001b[1;32mc:\\Users\\Stephanie Cely\\AppData\\Local\\Programs\\Python\\Python39\\lib\\site-packages\\pandas\\util\\_decorators.py:311\u001b[0m, in \u001b[0;36mdeprecate_nonkeyword_arguments.<locals>.decorate.<locals>.wrapper\u001b[1;34m(*args, **kwargs)\u001b[0m\n\u001b[0;32m    305\u001b[0m \u001b[39mif\u001b[39;00m \u001b[39mlen\u001b[39m(args) \u001b[39m>\u001b[39m num_allow_args:\n\u001b[0;32m    306\u001b[0m     warnings\u001b[39m.\u001b[39mwarn(\n\u001b[0;32m    307\u001b[0m         msg\u001b[39m.\u001b[39mformat(arguments\u001b[39m=\u001b[39marguments),\n\u001b[0;32m    308\u001b[0m         \u001b[39mFutureWarning\u001b[39;00m,\n\u001b[0;32m    309\u001b[0m         stacklevel\u001b[39m=\u001b[39mstacklevel,\n\u001b[0;32m    310\u001b[0m     )\n\u001b[1;32m--> 311\u001b[0m \u001b[39mreturn\u001b[39;00m func(\u001b[39m*\u001b[39margs, \u001b[39m*\u001b[39m\u001b[39m*\u001b[39mkwargs)\n",
      "File \u001b[1;32mc:\\Users\\Stephanie Cely\\AppData\\Local\\Programs\\Python\\Python39\\lib\\site-packages\\pandas\\io\\parsers\\readers.py:680\u001b[0m, in \u001b[0;36mread_csv\u001b[1;34m(filepath_or_buffer, sep, delimiter, header, names, index_col, usecols, squeeze, prefix, mangle_dupe_cols, dtype, engine, converters, true_values, false_values, skipinitialspace, skiprows, skipfooter, nrows, na_values, keep_default_na, na_filter, verbose, skip_blank_lines, parse_dates, infer_datetime_format, keep_date_col, date_parser, dayfirst, cache_dates, iterator, chunksize, compression, thousands, decimal, lineterminator, quotechar, quoting, doublequote, escapechar, comment, encoding, encoding_errors, dialect, error_bad_lines, warn_bad_lines, on_bad_lines, delim_whitespace, low_memory, memory_map, float_precision, storage_options)\u001b[0m\n\u001b[0;32m    665\u001b[0m kwds_defaults \u001b[39m=\u001b[39m _refine_defaults_read(\n\u001b[0;32m    666\u001b[0m     dialect,\n\u001b[0;32m    667\u001b[0m     delimiter,\n\u001b[1;32m   (...)\u001b[0m\n\u001b[0;32m    676\u001b[0m     defaults\u001b[39m=\u001b[39m{\u001b[39m\"\u001b[39m\u001b[39mdelimiter\u001b[39m\u001b[39m\"\u001b[39m: \u001b[39m\"\u001b[39m\u001b[39m,\u001b[39m\u001b[39m\"\u001b[39m},\n\u001b[0;32m    677\u001b[0m )\n\u001b[0;32m    678\u001b[0m kwds\u001b[39m.\u001b[39mupdate(kwds_defaults)\n\u001b[1;32m--> 680\u001b[0m \u001b[39mreturn\u001b[39;00m _read(filepath_or_buffer, kwds)\n",
      "File \u001b[1;32mc:\\Users\\Stephanie Cely\\AppData\\Local\\Programs\\Python\\Python39\\lib\\site-packages\\pandas\\io\\parsers\\readers.py:575\u001b[0m, in \u001b[0;36m_read\u001b[1;34m(filepath_or_buffer, kwds)\u001b[0m\n\u001b[0;32m    572\u001b[0m _validate_names(kwds\u001b[39m.\u001b[39mget(\u001b[39m\"\u001b[39m\u001b[39mnames\u001b[39m\u001b[39m\"\u001b[39m, \u001b[39mNone\u001b[39;00m))\n\u001b[0;32m    574\u001b[0m \u001b[39m# Create the parser.\u001b[39;00m\n\u001b[1;32m--> 575\u001b[0m parser \u001b[39m=\u001b[39m TextFileReader(filepath_or_buffer, \u001b[39m*\u001b[39m\u001b[39m*\u001b[39mkwds)\n\u001b[0;32m    577\u001b[0m \u001b[39mif\u001b[39;00m chunksize \u001b[39mor\u001b[39;00m iterator:\n\u001b[0;32m    578\u001b[0m     \u001b[39mreturn\u001b[39;00m parser\n",
      "File \u001b[1;32mc:\\Users\\Stephanie Cely\\AppData\\Local\\Programs\\Python\\Python39\\lib\\site-packages\\pandas\\io\\parsers\\readers.py:934\u001b[0m, in \u001b[0;36mTextFileReader.__init__\u001b[1;34m(self, f, engine, **kwds)\u001b[0m\n\u001b[0;32m    931\u001b[0m     \u001b[39mself\u001b[39m\u001b[39m.\u001b[39moptions[\u001b[39m\"\u001b[39m\u001b[39mhas_index_names\u001b[39m\u001b[39m\"\u001b[39m] \u001b[39m=\u001b[39m kwds[\u001b[39m\"\u001b[39m\u001b[39mhas_index_names\u001b[39m\u001b[39m\"\u001b[39m]\n\u001b[0;32m    933\u001b[0m \u001b[39mself\u001b[39m\u001b[39m.\u001b[39mhandles: IOHandles \u001b[39m|\u001b[39m \u001b[39mNone\u001b[39;00m \u001b[39m=\u001b[39m \u001b[39mNone\u001b[39;00m\n\u001b[1;32m--> 934\u001b[0m \u001b[39mself\u001b[39m\u001b[39m.\u001b[39m_engine \u001b[39m=\u001b[39m \u001b[39mself\u001b[39;49m\u001b[39m.\u001b[39;49m_make_engine(f, \u001b[39mself\u001b[39;49m\u001b[39m.\u001b[39;49mengine)\n",
      "File \u001b[1;32mc:\\Users\\Stephanie Cely\\AppData\\Local\\Programs\\Python\\Python39\\lib\\site-packages\\pandas\\io\\parsers\\readers.py:1218\u001b[0m, in \u001b[0;36mTextFileReader._make_engine\u001b[1;34m(self, f, engine)\u001b[0m\n\u001b[0;32m   1214\u001b[0m     mode \u001b[39m=\u001b[39m \u001b[39m\"\u001b[39m\u001b[39mrb\u001b[39m\u001b[39m\"\u001b[39m\n\u001b[0;32m   1215\u001b[0m \u001b[39m# error: No overload variant of \"get_handle\" matches argument types\u001b[39;00m\n\u001b[0;32m   1216\u001b[0m \u001b[39m# \"Union[str, PathLike[str], ReadCsvBuffer[bytes], ReadCsvBuffer[str]]\"\u001b[39;00m\n\u001b[0;32m   1217\u001b[0m \u001b[39m# , \"str\", \"bool\", \"Any\", \"Any\", \"Any\", \"Any\", \"Any\"\u001b[39;00m\n\u001b[1;32m-> 1218\u001b[0m \u001b[39mself\u001b[39m\u001b[39m.\u001b[39mhandles \u001b[39m=\u001b[39m get_handle(  \u001b[39m# type: ignore[call-overload]\u001b[39;49;00m\n\u001b[0;32m   1219\u001b[0m     f,\n\u001b[0;32m   1220\u001b[0m     mode,\n\u001b[0;32m   1221\u001b[0m     encoding\u001b[39m=\u001b[39;49m\u001b[39mself\u001b[39;49m\u001b[39m.\u001b[39;49moptions\u001b[39m.\u001b[39;49mget(\u001b[39m\"\u001b[39;49m\u001b[39mencoding\u001b[39;49m\u001b[39m\"\u001b[39;49m, \u001b[39mNone\u001b[39;49;00m),\n\u001b[0;32m   1222\u001b[0m     compression\u001b[39m=\u001b[39;49m\u001b[39mself\u001b[39;49m\u001b[39m.\u001b[39;49moptions\u001b[39m.\u001b[39;49mget(\u001b[39m\"\u001b[39;49m\u001b[39mcompression\u001b[39;49m\u001b[39m\"\u001b[39;49m, \u001b[39mNone\u001b[39;49;00m),\n\u001b[0;32m   1223\u001b[0m     memory_map\u001b[39m=\u001b[39;49m\u001b[39mself\u001b[39;49m\u001b[39m.\u001b[39;49moptions\u001b[39m.\u001b[39;49mget(\u001b[39m\"\u001b[39;49m\u001b[39mmemory_map\u001b[39;49m\u001b[39m\"\u001b[39;49m, \u001b[39mFalse\u001b[39;49;00m),\n\u001b[0;32m   1224\u001b[0m     is_text\u001b[39m=\u001b[39;49mis_text,\n\u001b[0;32m   1225\u001b[0m     errors\u001b[39m=\u001b[39;49m\u001b[39mself\u001b[39;49m\u001b[39m.\u001b[39;49moptions\u001b[39m.\u001b[39;49mget(\u001b[39m\"\u001b[39;49m\u001b[39mencoding_errors\u001b[39;49m\u001b[39m\"\u001b[39;49m, \u001b[39m\"\u001b[39;49m\u001b[39mstrict\u001b[39;49m\u001b[39m\"\u001b[39;49m),\n\u001b[0;32m   1226\u001b[0m     storage_options\u001b[39m=\u001b[39;49m\u001b[39mself\u001b[39;49m\u001b[39m.\u001b[39;49moptions\u001b[39m.\u001b[39;49mget(\u001b[39m\"\u001b[39;49m\u001b[39mstorage_options\u001b[39;49m\u001b[39m\"\u001b[39;49m, \u001b[39mNone\u001b[39;49;00m),\n\u001b[0;32m   1227\u001b[0m )\n\u001b[0;32m   1228\u001b[0m \u001b[39massert\u001b[39;00m \u001b[39mself\u001b[39m\u001b[39m.\u001b[39mhandles \u001b[39mis\u001b[39;00m \u001b[39mnot\u001b[39;00m \u001b[39mNone\u001b[39;00m\n\u001b[0;32m   1229\u001b[0m f \u001b[39m=\u001b[39m \u001b[39mself\u001b[39m\u001b[39m.\u001b[39mhandles\u001b[39m.\u001b[39mhandle\n",
      "File \u001b[1;32mc:\\Users\\Stephanie Cely\\AppData\\Local\\Programs\\Python\\Python39\\lib\\site-packages\\pandas\\io\\common.py:786\u001b[0m, in \u001b[0;36mget_handle\u001b[1;34m(path_or_buf, mode, encoding, compression, memory_map, is_text, errors, storage_options)\u001b[0m\n\u001b[0;32m    781\u001b[0m \u001b[39melif\u001b[39;00m \u001b[39misinstance\u001b[39m(handle, \u001b[39mstr\u001b[39m):\n\u001b[0;32m    782\u001b[0m     \u001b[39m# Check whether the filename is to be opened in binary mode.\u001b[39;00m\n\u001b[0;32m    783\u001b[0m     \u001b[39m# Binary mode does not support 'encoding' and 'newline'.\u001b[39;00m\n\u001b[0;32m    784\u001b[0m     \u001b[39mif\u001b[39;00m ioargs\u001b[39m.\u001b[39mencoding \u001b[39mand\u001b[39;00m \u001b[39m\"\u001b[39m\u001b[39mb\u001b[39m\u001b[39m\"\u001b[39m \u001b[39mnot\u001b[39;00m \u001b[39min\u001b[39;00m ioargs\u001b[39m.\u001b[39mmode:\n\u001b[0;32m    785\u001b[0m         \u001b[39m# Encoding\u001b[39;00m\n\u001b[1;32m--> 786\u001b[0m         handle \u001b[39m=\u001b[39m \u001b[39mopen\u001b[39;49m(\n\u001b[0;32m    787\u001b[0m             handle,\n\u001b[0;32m    788\u001b[0m             ioargs\u001b[39m.\u001b[39;49mmode,\n\u001b[0;32m    789\u001b[0m             encoding\u001b[39m=\u001b[39;49mioargs\u001b[39m.\u001b[39;49mencoding,\n\u001b[0;32m    790\u001b[0m             errors\u001b[39m=\u001b[39;49merrors,\n\u001b[0;32m    791\u001b[0m             newline\u001b[39m=\u001b[39;49m\u001b[39m\"\u001b[39;49m\u001b[39m\"\u001b[39;49m,\n\u001b[0;32m    792\u001b[0m         )\n\u001b[0;32m    793\u001b[0m     \u001b[39melse\u001b[39;00m:\n\u001b[0;32m    794\u001b[0m         \u001b[39m# Binary mode\u001b[39;00m\n\u001b[0;32m    795\u001b[0m         handle \u001b[39m=\u001b[39m \u001b[39mopen\u001b[39m(handle, ioargs\u001b[39m.\u001b[39mmode)\n",
      "\u001b[1;31mFileNotFoundError\u001b[0m: [Errno 2] No such file or directory: 'raw_halo.txt'"
     ]
    }
   ],
   "source": [
    "reference = pd.read_csv('../data/raw_halo.txt', names=[\"x[kpc]\",\"y[kpc]\",\"z[kpc]\",\"vx[km/s]\",\"vy[km/s]\",\"vz[km/s]\"], sep=\" \")\n",
    "perturbed = pd.read_csv('../data/halo.txt', names=[\"x[kpc]\",\"y[kpc]\",\"z[kpc]\",\"vx[km/s]\",\"vy[km/s]\",\"vz[km/s]\"], sep=\" \")\n",
    "\n",
    "df = pd.DataFrame(reference)\n",
    "df2 = pd.DataFrame(perturbed)"
   ]
  },
  {
   "cell_type": "markdown",
   "metadata": {},
   "source": [
    "<p> Uso de la funcion 'cartesian_projection' para graficar </p>\n"
   ]
  },
  {
   "cell_type": "code",
   "execution_count": 13,
   "metadata": {},
   "outputs": [
    {
     "data": {
      "text/plain": [
       "0"
      ]
     },
     "execution_count": 13,
     "metadata": {},
     "output_type": "execute_result"
    }
   ],
   "source": [
    "cartessian_projection(df, \"Halo_no_pertubado\")\n",
    "cartessian_projection(df2, \"Halo_pertubado\")\n",
    "# cartessian_projection(df.div(df2), 'comparacion1_2')\n",
    "# cartessian_projection(df2.div(df), 'comparacion2_1')\n",
    "# cartessian_projection(df2.rsub(df), 'comparacion_resta2_1')\n",
    "# cartessian_projection_1d(df, \"d1hist\")\n",
    "#cartessian_projection2(df,df2, \"comparacion\");"
   ]
  },
  {
   "cell_type": "markdown",
   "metadata": {},
   "source": [
    "<p> Calculo de los histogramas haciendo uso de la funcion 'histogram2d' de la libreria Numpy </p>"
   ]
  },
  {
   "cell_type": "code",
   "execution_count": 14,
   "metadata": {},
   "outputs": [],
   "source": [
    "\n",
    "density1 = np.histogram2d(df['x[kpc]'], df['y[kpc]'],  bins=np.linspace(-100,100,800) )\n",
    "# print(density1)\n",
    "density2 = np.histogram2d(df2['x[kpc]'], df2['y[kpc]'],  bins=np.linspace(-100,100,800))\n",
    "# print(\"Density background halo\",\"\\n\", density1[0],\"\\n\", \"Density halo movement\",\"\\n\", density2[0])\n",
    "\n",
    "# print(density1[0].shape)\n",
    "# print(density2[0].shape)"
   ]
  },
  {
   "cell_type": "markdown",
   "metadata": {},
   "source": [
    "<p>Division de las primeras columnas de cada matriz densidad. </p>"
   ]
  },
  {
   "cell_type": "code",
   "execution_count": 25,
   "metadata": {},
   "outputs": [
    {
     "name": "stdout",
     "output_type": "stream",
     "text": [
      "nparticles first element \n",
      " 1.0 dimension (799, 799)\n",
      "Density Shape (799, 799)\n",
      "density \n",
      " [[0.00000000e+00 0.00000000e+00 0.00000000e+00 ... 0.00000000e+00\n",
      "  0.00000000e+00 0.00000000e+00]\n",
      " [0.00000000e+00 0.00000000e+00 0.00000000e+00 ... 0.00000000e+00\n",
      "  0.00000000e+00 0.00000000e+00]\n",
      " [0.00000000e+00 0.00000000e+00 2.79919900e-05 ... 0.00000000e+00\n",
      "  0.00000000e+00 1.54725658e-01]\n",
      " ...\n",
      " [0.00000000e+00 0.00000000e+00 0.00000000e+00 ... 0.00000000e+00\n",
      "  0.00000000e+00 2.79919900e-05]\n",
      " [0.00000000e+00 0.00000000e+00 2.79919900e-05 ... 0.00000000e+00\n",
      "  0.00000000e+00 0.00000000e+00]\n",
      " [0.00000000e+00 0.00000000e+00 5.59839800e-05 ... 0.00000000e+00\n",
      "  0.00000000e+00 0.00000000e+00]]\n"
     ]
    },
    {
     "ename": "AttributeError",
     "evalue": "'AxesImage' object has no property 'bmin'",
     "output_type": "error",
     "traceback": [
      "\u001b[1;31m---------------------------------------------------------------------------\u001b[0m",
      "\u001b[1;31mAttributeError\u001b[0m                            Traceback (most recent call last)",
      "\u001b[1;32mc:\\Users\\Stephanie Cely\\OneDrive - Universidad Nacional de Colombia (2)\\WakeFinder\\wakefinder\\src\\halo-movement.ipynb Cell 14\u001b[0m in \u001b[0;36m<cell line: 37>\u001b[1;34m()\u001b[0m\n\u001b[0;32m     <a href='vscode-notebook-cell:/c%3A/Users/Stephanie%20Cely/OneDrive%20-%20Universidad%20Nacional%20de%20Colombia%20%282%29/WakeFinder/wakefinder/src/halo-movement.ipynb#ch0000019?line=33'>34</a>\u001b[0m     plt\u001b[39m.\u001b[39mclose()\n\u001b[0;32m     <a href='vscode-notebook-cell:/c%3A/Users/Stephanie%20Cely/OneDrive%20-%20Universidad%20Nacional%20de%20Colombia%20%282%29/WakeFinder/wakefinder/src/halo-movement.ipynb#ch0000019?line=34'>35</a>\u001b[0m     \u001b[39mreturn\u001b[39;00m \u001b[39m0\u001b[39m\n\u001b[1;32m---> <a href='vscode-notebook-cell:/c%3A/Users/Stephanie%20Cely/OneDrive%20-%20Universidad%20Nacional%20de%20Colombia%20%282%29/WakeFinder/wakefinder/src/halo-movement.ipynb#ch0000019?line=36'>37</a>\u001b[0m cartessian_projection3(density, \u001b[39m\"\u001b[39;49m\u001b[39mdensity_halo\u001b[39;49m\u001b[39m\"\u001b[39;49m)\n\u001b[0;32m     <a href='vscode-notebook-cell:/c%3A/Users/Stephanie%20Cely/OneDrive%20-%20Universidad%20Nacional%20de%20Colombia%20%282%29/WakeFinder/wakefinder/src/halo-movement.ipynb#ch0000019?line=37'>38</a>\u001b[0m cartessian_projection3(nparticles\u001b[39m/\u001b[39mnparticles2\u001b[39m-\u001b[39m\u001b[39m1\u001b[39m, \u001b[39m\"\u001b[39m\u001b[39mdivision\u001b[39m\u001b[39m\"\u001b[39m)\n",
      "\u001b[1;32mc:\\Users\\Stephanie Cely\\OneDrive - Universidad Nacional de Colombia (2)\\WakeFinder\\wakefinder\\src\\halo-movement.ipynb Cell 14\u001b[0m in \u001b[0;36mcartessian_projection3\u001b[1;34m(density, figname)\u001b[0m\n\u001b[0;32m     <a href='vscode-notebook-cell:/c%3A/Users/Stephanie%20Cely/OneDrive%20-%20Universidad%20Nacional%20de%20Colombia%20%282%29/WakeFinder/wakefinder/src/halo-movement.ipynb#ch0000019?line=26'>27</a>\u001b[0m \u001b[39mdef\u001b[39;00m \u001b[39mcartessian_projection3\u001b[39m (density, figname ):\n\u001b[0;32m     <a href='vscode-notebook-cell:/c%3A/Users/Stephanie%20Cely/OneDrive%20-%20Universidad%20Nacional%20de%20Colombia%20%282%29/WakeFinder/wakefinder/src/halo-movement.ipynb#ch0000019?line=27'>28</a>\u001b[0m     fig, ax \u001b[39m=\u001b[39m plt\u001b[39m.\u001b[39msubplots(\u001b[39m1\u001b[39m, \u001b[39m1\u001b[39m, figsize\u001b[39m=\u001b[39m(\u001b[39m10\u001b[39m,\u001b[39m4\u001b[39m))\n\u001b[1;32m---> <a href='vscode-notebook-cell:/c%3A/Users/Stephanie%20Cely/OneDrive%20-%20Universidad%20Nacional%20de%20Colombia%20%282%29/WakeFinder/wakefinder/src/halo-movement.ipynb#ch0000019?line=28'>29</a>\u001b[0m     im \u001b[39m=\u001b[39m ax\u001b[39m.\u001b[39;49mimshow(density,bmin \u001b[39m=\u001b[39;49m \u001b[39m-\u001b[39;49m\u001b[39m0.5\u001b[39;49m, bmax\u001b[39m=\u001b[39;49m\u001b[39m0.5\u001b[39;49m)\n\u001b[0;32m     <a href='vscode-notebook-cell:/c%3A/Users/Stephanie%20Cely/OneDrive%20-%20Universidad%20Nacional%20de%20Colombia%20%282%29/WakeFinder/wakefinder/src/halo-movement.ipynb#ch0000019?line=29'>30</a>\u001b[0m     plt\u001b[39m.\u001b[39mcolorbar(im)\n\u001b[0;32m     <a href='vscode-notebook-cell:/c%3A/Users/Stephanie%20Cely/OneDrive%20-%20Universidad%20Nacional%20de%20Colombia%20%282%29/WakeFinder/wakefinder/src/halo-movement.ipynb#ch0000019?line=30'>31</a>\u001b[0m     \u001b[39m# ax.set_xlabel\u001b[39;00m\n\u001b[0;32m     <a href='vscode-notebook-cell:/c%3A/Users/Stephanie%20Cely/OneDrive%20-%20Universidad%20Nacional%20de%20Colombia%20%282%29/WakeFinder/wakefinder/src/halo-movement.ipynb#ch0000019?line=31'>32</a>\u001b[0m     \u001b[39m# ax.set_ylabel(\"y[kpc]\")\u001b[39;00m\n",
      "File \u001b[1;32mc:\\Users\\Stephanie Cely\\AppData\\Local\\Programs\\Python\\Python39\\lib\\site-packages\\matplotlib\\__init__.py:1361\u001b[0m, in \u001b[0;36m_preprocess_data.<locals>.inner\u001b[1;34m(ax, data, *args, **kwargs)\u001b[0m\n\u001b[0;32m   1358\u001b[0m \u001b[39m@functools\u001b[39m\u001b[39m.\u001b[39mwraps(func)\n\u001b[0;32m   1359\u001b[0m \u001b[39mdef\u001b[39;00m \u001b[39minner\u001b[39m(ax, \u001b[39m*\u001b[39margs, data\u001b[39m=\u001b[39m\u001b[39mNone\u001b[39;00m, \u001b[39m*\u001b[39m\u001b[39m*\u001b[39mkwargs):\n\u001b[0;32m   1360\u001b[0m     \u001b[39mif\u001b[39;00m data \u001b[39mis\u001b[39;00m \u001b[39mNone\u001b[39;00m:\n\u001b[1;32m-> 1361\u001b[0m         \u001b[39mreturn\u001b[39;00m func(ax, \u001b[39m*\u001b[39m\u001b[39mmap\u001b[39m(sanitize_sequence, args), \u001b[39m*\u001b[39m\u001b[39m*\u001b[39mkwargs)\n\u001b[0;32m   1363\u001b[0m     bound \u001b[39m=\u001b[39m new_sig\u001b[39m.\u001b[39mbind(ax, \u001b[39m*\u001b[39margs, \u001b[39m*\u001b[39m\u001b[39m*\u001b[39mkwargs)\n\u001b[0;32m   1364\u001b[0m     auto_label \u001b[39m=\u001b[39m (bound\u001b[39m.\u001b[39marguments\u001b[39m.\u001b[39mget(label_namer)\n\u001b[0;32m   1365\u001b[0m                   \u001b[39mor\u001b[39;00m bound\u001b[39m.\u001b[39mkwargs\u001b[39m.\u001b[39mget(label_namer))\n",
      "File \u001b[1;32mc:\\Users\\Stephanie Cely\\AppData\\Local\\Programs\\Python\\Python39\\lib\\site-packages\\matplotlib\\axes\\_axes.py:5605\u001b[0m, in \u001b[0;36mAxes.imshow\u001b[1;34m(self, X, cmap, norm, aspect, interpolation, alpha, vmin, vmax, origin, extent, filternorm, filterrad, resample, url, **kwargs)\u001b[0m\n\u001b[0;32m   5603\u001b[0m     aspect \u001b[39m=\u001b[39m rcParams[\u001b[39m'\u001b[39m\u001b[39mimage.aspect\u001b[39m\u001b[39m'\u001b[39m]\n\u001b[0;32m   5604\u001b[0m \u001b[39mself\u001b[39m\u001b[39m.\u001b[39mset_aspect(aspect)\n\u001b[1;32m-> 5605\u001b[0m im \u001b[39m=\u001b[39m mimage\u001b[39m.\u001b[39mAxesImage(\u001b[39mself\u001b[39m, cmap, norm, interpolation, origin, extent,\n\u001b[0;32m   5606\u001b[0m                       filternorm\u001b[39m=\u001b[39mfilternorm, filterrad\u001b[39m=\u001b[39mfilterrad,\n\u001b[0;32m   5607\u001b[0m                       resample\u001b[39m=\u001b[39mresample, \u001b[39m*\u001b[39m\u001b[39m*\u001b[39mkwargs)\n\u001b[0;32m   5609\u001b[0m im\u001b[39m.\u001b[39mset_data(X)\n\u001b[0;32m   5610\u001b[0m im\u001b[39m.\u001b[39mset_alpha(alpha)\n",
      "File \u001b[1;32mc:\\Users\\Stephanie Cely\\AppData\\Local\\Programs\\Python\\Python39\\lib\\site-packages\\matplotlib\\image.py:900\u001b[0m, in \u001b[0;36mAxesImage.__init__\u001b[1;34m(self, ax, cmap, norm, interpolation, origin, extent, filternorm, filterrad, resample, **kwargs)\u001b[0m\n\u001b[0;32m    886\u001b[0m \u001b[39mdef\u001b[39;00m \u001b[39m__init__\u001b[39m(\u001b[39mself\u001b[39m, ax,\n\u001b[0;32m    887\u001b[0m              cmap\u001b[39m=\u001b[39m\u001b[39mNone\u001b[39;00m,\n\u001b[0;32m    888\u001b[0m              norm\u001b[39m=\u001b[39m\u001b[39mNone\u001b[39;00m,\n\u001b[1;32m   (...)\u001b[0m\n\u001b[0;32m    895\u001b[0m              \u001b[39m*\u001b[39m\u001b[39m*\u001b[39mkwargs\n\u001b[0;32m    896\u001b[0m              ):\n\u001b[0;32m    898\u001b[0m     \u001b[39mself\u001b[39m\u001b[39m.\u001b[39m_extent \u001b[39m=\u001b[39m extent\n\u001b[1;32m--> 900\u001b[0m     \u001b[39msuper\u001b[39m()\u001b[39m.\u001b[39m\u001b[39m__init__\u001b[39m(\n\u001b[0;32m    901\u001b[0m         ax,\n\u001b[0;32m    902\u001b[0m         cmap\u001b[39m=\u001b[39mcmap,\n\u001b[0;32m    903\u001b[0m         norm\u001b[39m=\u001b[39mnorm,\n\u001b[0;32m    904\u001b[0m         interpolation\u001b[39m=\u001b[39minterpolation,\n\u001b[0;32m    905\u001b[0m         origin\u001b[39m=\u001b[39morigin,\n\u001b[0;32m    906\u001b[0m         filternorm\u001b[39m=\u001b[39mfilternorm,\n\u001b[0;32m    907\u001b[0m         filterrad\u001b[39m=\u001b[39mfilterrad,\n\u001b[0;32m    908\u001b[0m         resample\u001b[39m=\u001b[39mresample,\n\u001b[0;32m    909\u001b[0m         \u001b[39m*\u001b[39m\u001b[39m*\u001b[39mkwargs\n\u001b[0;32m    910\u001b[0m     )\n",
      "File \u001b[1;32mc:\\Users\\Stephanie Cely\\AppData\\Local\\Programs\\Python\\Python39\\lib\\site-packages\\matplotlib\\image.py:257\u001b[0m, in \u001b[0;36m_ImageBase.__init__\u001b[1;34m(self, ax, cmap, norm, interpolation, origin, filternorm, filterrad, resample, **kwargs)\u001b[0m\n\u001b[0;32m    253\u001b[0m \u001b[39mself\u001b[39m\u001b[39m.\u001b[39maxes \u001b[39m=\u001b[39m ax\n\u001b[0;32m    255\u001b[0m \u001b[39mself\u001b[39m\u001b[39m.\u001b[39m_imcache \u001b[39m=\u001b[39m \u001b[39mNone\u001b[39;00m\n\u001b[1;32m--> 257\u001b[0m \u001b[39mself\u001b[39;49m\u001b[39m.\u001b[39;49mupdate(kwargs)\n",
      "File \u001b[1;32mc:\\Users\\Stephanie Cely\\AppData\\Local\\Programs\\Python\\Python39\\lib\\site-packages\\matplotlib\\artist.py:1062\u001b[0m, in \u001b[0;36mArtist.update\u001b[1;34m(self, props)\u001b[0m\n\u001b[0;32m   1060\u001b[0m             func \u001b[39m=\u001b[39m \u001b[39mgetattr\u001b[39m(\u001b[39mself\u001b[39m, \u001b[39mf\u001b[39m\u001b[39m\"\u001b[39m\u001b[39mset_\u001b[39m\u001b[39m{\u001b[39;00mk\u001b[39m}\u001b[39;00m\u001b[39m\"\u001b[39m, \u001b[39mNone\u001b[39;00m)\n\u001b[0;32m   1061\u001b[0m             \u001b[39mif\u001b[39;00m \u001b[39mnot\u001b[39;00m callable(func):\n\u001b[1;32m-> 1062\u001b[0m                 \u001b[39mraise\u001b[39;00m \u001b[39mAttributeError\u001b[39;00m(\u001b[39mf\u001b[39m\u001b[39m\"\u001b[39m\u001b[39m{\u001b[39;00m\u001b[39mtype\u001b[39m(\u001b[39mself\u001b[39m)\u001b[39m.\u001b[39m\u001b[39m__name__\u001b[39m\u001b[39m!r}\u001b[39;00m\u001b[39m object \u001b[39m\u001b[39m\"\u001b[39m\n\u001b[0;32m   1063\u001b[0m                                      \u001b[39mf\u001b[39m\u001b[39m\"\u001b[39m\u001b[39mhas no property \u001b[39m\u001b[39m{\u001b[39;00mk\u001b[39m!r}\u001b[39;00m\u001b[39m\"\u001b[39m)\n\u001b[0;32m   1064\u001b[0m             ret\u001b[39m.\u001b[39mappend(func(v))\n\u001b[0;32m   1065\u001b[0m \u001b[39mif\u001b[39;00m ret:\n",
      "\u001b[1;31mAttributeError\u001b[0m: 'AxesImage' object has no property 'bmin'"
     ]
    },
    {
     "data": {
      "image/png": "[encoded data removed]",
      "text/plain": [
       "<Figure size 720x288 with 1 Axes>"
      ]
     },
     "metadata": {
      "needs_background": "light"
     },
     "output_type": "display_data"
    }
   ],
   "source": [
    "nparticles = density1[0]\n",
    "nparticles2 = density2[0]\n",
    "\n",
    "#avoiding the division by zero\n",
    "for i in range(len(nparticles)):\n",
    "    for j in range(len(nparticles[i])):\n",
    "        if nparticles[i][j] == 0:\n",
    "            nparticles[i][j] = 1\n",
    "\n",
    "print(\"nparticles first element\", \"\\n\", nparticles[56][300], \"dimension\", nparticles.shape)\n",
    "density = np.divide(nparticles2,nparticles)\n",
    "print(\"Density Shape\", density.shape)\n",
    "\n",
    "print(\"density\", \"\\n\",density)\n",
    "def cartessian_projection3(pos, figname):\n",
    "    fig, ax = plt.subplots(1, 2, figsize=(10,4))\n",
    "    ax[0].hist2d(pos[:,0], pos[:,1],  bins=np.linspace(-100,100,800), norm=LogNorm())\n",
    "    ax[1].hist2d(pos[:,0], pos[:,2],  bins=np.linspace(-100,100,800), norm=LogNorm())\n",
    "    ax[0].set_xlabel(\"x[kpc]\")\n",
    "    ax[0].set_ylabel(\"y[kpc]\")\n",
    "    ax[1].set_xlabel(\"x[kpc]\")\n",
    "    ax[1].set_ylabel(\"z[kpc]\") \n",
    "    plt.savefig(figname, bbox_inches='tight')\n",
    "    plt.close()\n",
    "    return 0\n",
    "\n",
    "def cartessian_projection3 (density, figname ):\n",
    "    fig, ax = plt.subplots(1, 1, figsize=(10,4))\n",
    "    im = ax.imshow(density,bmin = -0.5, bmax=0.5)\n",
    "    plt.colorbar(im)\n",
    "    # ax.set_xlabel\n",
    "    # ax.set_ylabel(\"y[kpc]\")\n",
    "    plt.savefig(figname, bbox_inches='tight')\n",
    "    plt.close()\n",
    "    return 0\n",
    "\n",
    "# cartessian_projection3(density, \"density_halo\")\n",
    "cartessian_projection3(nparticles/nparticles2 -1, \"division\")"
   ]
  },
  {
   "cell_type": "code",
   "execution_count": 11,
   "metadata": {},
   "outputs": [],
   "source": [
    "\n",
    "\n",
    "# def densities(pos):\n",
    "#     np.histogram2d(pos['x[kpc]'], pos['y[kpc]'],  bins=np.linspace(-100,100,800), normed=LogNorm() )\n",
    "#     return 0\n",
    "# def cartessian_projection_1d(pos, figname):\n",
    "#    fig, ax = plt.subplots(1, 2, figsize=(10,4))\n",
    "#    ax[0].hist(pos['x[kpc]'],  bins=np.linspace(-100,100,800))\n",
    "#    ax[1].hist(pos['y[kpc]'],  bins=np.linspace(-100,100,800))\n",
    "#    #ax[1].hist2d(pos['x[kpc]'], pos['z[kpc]'],  bins=np.linspace(-100,100,800), norm=LogNorm())\n",
    "#    ax[0].set_xlabel(\"x[kpc]\")\n",
    "#    ax[0].set_ylabel(\"y[kpc]\")\n",
    "#    ax[1].set_xlabel(\"x[kpc]\")\n",
    "#    ax[1].set_ylabel(\"z[kpc]\") \n",
    "#    plt.savefig(figname, bbox_inches='tight')\n",
    "   \n",
    "\n",
    "#    plt.close()\n",
    "#    return 0\n",
    "\n",
    "# reference = pd.read_csv('../data/raw_halo.txt', names=[\"x[kpc]\",\"y[kpc]\",\"z[kpc]\",\"vx[km/s]\",\"vy[km/s]\",\"vz[km/s]\"], sep=\" \")\n",
    "# perturbed = pd.read_csv('../data/halo.txt', names=[\"x[kpc]\",\"y[kpc]\",\"z[kpc]\",\"vx[km/s]\",\"vy[km/s]\",\"vz[km/s]\"], sep=\" \")\n",
    "\n",
    "# df = pd.DataFrame(reference)\n",
    "# df2 = pd.DataFrame(perturbed)\n",
    "\n",
    "\n",
    "# cartessian_projection(df, \"Halo_no_pertubado\")\n",
    "# cartessian_projection(df2, \"Halo_pertubado\")\n",
    "# cartessian_projection(df.div(df2), 'comparacion1_2')\n",
    "# cartessian_projection(df2.div(df), 'comparacion2_1')\n",
    "# cartessian_projection(df2.rsub(df), 'comparacion_resta2_1')\n",
    "# cartessian_projection_1d(df, \"d1hist\")\n",
    "# #cartessian_projection2(df,df2, \"comparacion\");\n",
    "\n",
    "\n",
    "# def cartessian_projection3(pos, figname):\n",
    "#    fig, ax = plt.subplots(1, 2, figsize=(10,4))\n",
    "#    ax[0].hist2d(pos[:,0], pos[:,1],  bins=np.linspace(-100,100,800), norm=LogNorm())\n",
    "#    ax[1].hist2d(pos[:,0], pos[:,2],  bins=np.linspace(-100,100,800), norm=LogNorm())\n",
    "#    ax[0].set_xlabel(\"x[kpc]\")\n",
    "#    ax[0].set_ylabel(\"y[kpc]\")\n",
    "#    ax[1].set_xlabel(\"x[kpc]\")\n",
    "#    ax[1].set_ylabel(\"z[kpc]\") \n",
    "#    plt.savefig(figname, bbox_inches='tight')\n",
    "#    plt.close()\n",
    "#    return 0\n",
    "\n"
   ]
  },
  {
   "cell_type": "code",
   "execution_count": null,
   "metadata": {
    "id": "HU6IN6tiQ4IN"
   },
   "outputs": [],
   "source": []
  },
  {
   "cell_type": "markdown",
   "metadata": {
    "id": "H-6fZCFUQ4Q0"
   },
   "source": []
  },
  {
   "cell_type": "code",
   "execution_count": null,
   "metadata": {
    "id": "w7pZpXAbQ4dD"
   },
   "outputs": [],
   "source": []
  },
  {
   "cell_type": "code",
   "execution_count": 12,
   "metadata": {
    "colab": {
     "base_uri": "https://localhost:8080/",
     "height": 282
    },
    "id": "CKpf71nrFk7Q",
    "outputId": "53550dc4-fc8f-41f0-ce4c-01e2aade6fb0"
   },
   "outputs": [],
   "source": [
    "# import pandas as pd\n",
    "# import matplotlib.pyplot as plt\n",
    "# import seaborn as sns\n",
    "# from google.colab import files\n",
    "\n",
    "\n",
    "# reference = pd.read_csv('raw_halo.txt', names=[\"x[kpc]\",\"y[kpc]\",\"z[kpc]\",\"vx[km/s]\",\"vy[km/s]\",\"vz[km/s]\"], sep=\" \")\n",
    "# perturbed = pd.read_csv('halo.txt', names=[\"x[kpc]\",\"y[kpc]\",\"z[kpc]\",\"vx[km/s]\",\"vy[km/s]\",\"vz[km/s]\"], sep=\" \")\n",
    "\n",
    "# df = pd.DataFrame(reference)\n",
    "# df2 = pd.DataFrame(perturbed)\n",
    "\n",
    "# plt.subplot(1, 2, 1)\n",
    "# plt.scatter(df['x[kpc]'], df['vx[km/s]'], marker='o', s=0.01)\n",
    "# plt.axis('equal')\n",
    "\n",
    "# plt.subplot(1, 2, 2)\n",
    "# plt.scatter(df2['x[kpc]'], df2['vx[km/s]'], marker='o', s=0.01)\n",
    "# plt.axis('equal')\n",
    "# # ax.grid()\n",
    "\n",
    "\n",
    "# fig1 = plt.gcf()\n",
    "# plt.show() \n",
    "# plt.draw()\n",
    "# fig1.savefig('save2.png')\n",
    "\n",
    "# # data.plot(x='x[kpc]', y='y[kpc]', style=\"o\")\n",
    "# #print(df)\n",
    "# #print(df2)"
   ]
  }
 ],
 "metadata": {
  "colab": {
   "collapsed_sections": [],
   "name": "Halo-equilibrio.ipynb",
   "provenance": [],
   "toc_visible": true
  },
  "kernelspec": {
   "display_name": "Python 3.9.13 64-bit",
   "language": "python",
   "name": "python3"
  },
  "language_info": {
   "codemirror_mode": {
    "name": "ipython",
    "version": 3
   },
   "file_extension": ".py",
   "mimetype": "text/x-python",
   "name": "python",
   "nbconvert_exporter": "python",
   "pygments_lexer": "ipython3",
   "version": "3.9.13"
  },
  "vscode": {
   "interpreter": {
    "hash": "59ba741b21c64ff776073c75d9963c628afb8c1242aa735a0fb9bc09e688c20a"
   }
  }
 },
 "nbformat": 4,
 "nbformat_minor": 4
}
