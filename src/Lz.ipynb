{
 "cells": [
  {
   "cell_type": "code",
   "execution_count": 7,
   "metadata": {},
   "outputs": [],
   "source": [
    "import numpy as np\n",
    "import matplotlib.pyplot as plt\n",
    "from matplotlib import font_manager\n",
    "from matplotlib import rcParams\n",
    "font_manager.findSystemFonts(fontpaths=None, fontext=\"ttf\")\n",
    "\n",
    "font_dir = ['C:\\\\Windows\\\\Fonts']\n",
    "for font in font_manager.findSystemFonts(font_dir):\n",
    "    font_manager.fontManager.addfont(font)\n",
    "rcParams['font.family'] = 'Ancizar Sans'\n"
   ]
  },
  {
   "cell_type": "code",
   "execution_count": 8,
   "metadata": {},
   "outputs": [],
   "source": [
    "\n",
    "def read_data(filename):\n",
    "    data = np.loadtxt('../data/'+filename+'.txt', delimiter=' ')\n",
    "    return data\n"
   ]
  },
  {
   "cell_type": "code",
   "execution_count": 9,
   "metadata": {},
   "outputs": [],
   "source": [
    "\n",
    "#Data files belong to cold dark matter halo simulations of Milky Way particles interacting with the Large Magellanic Cloud (LMC)\n",
    "#mw prefix is for MW particles in the non interacting regime\n",
    "#lmc prefix is for MW particles in perturbed dark matter halo\n",
    "\n",
    "data_mw = read_data('rand_mwb1_000')\n",
    "data_lmc = read_data('rand_mwlmcb1_110')\n",
    "\n",
    "#Potential energy of particles in dark matter halo\n",
    "pot_mw = data_mw[:,6]\n",
    "pot_mw_lmc = data_lmc[:,6]\n",
    "\n",
    "#Extract velocity magnitude of particles in dark matter halo\n",
    "v_mw = data_mw[:,3:6]\n",
    "v_mw_lmc = data_lmc[:,3:6]\n",
    "\n",
    "#Extract index of particles\n",
    "idx_mw = data_mw[:,7]\n",
    "idx_lmc = data_lmc[:,7]\n",
    "def calculate_v_mag_square(v_mw):\n",
    "    v_mag = np.sqrt(v_mw[:,0]**2+v_mw[:,1]**2+v_mw[:,2]**2)\n",
    "    return v_mag\n",
    "\n",
    "v_mag_square_mw = calculate_v_mag_square(v_mw)\n",
    "v_mag_square_mw_lmc = calculate_v_mag_square(v_mw_lmc)\n",
    "\n",
    "E_mw = pot_mw+v_mag_square_mw\n",
    "E_mw_lmc = pot_mw_lmc+v_mag_square_mw_lmc\n",
    "\n",
    "#Positions and velocities of Milky Way galaxy dark matter halo particles\n",
    "\n",
    "pos_mw = data_mw[:,0:3]\n",
    "pos_mw_lmc = data_lmc[:,0:3]\n",
    "\n",
    "vel_mw = data_mw[:,3:6]\n",
    "vel_mw_lmc = data_lmc[:,3:6]\n"
   ]
  },
  {
   "cell_type": "code",
   "execution_count": 10,
   "metadata": {},
   "outputs": [],
   "source": [
    "\n",
    "#Calculate angular momentum components\n",
    "\n",
    "def angular_momentum(pos, vel):\n",
    "    \"\"\"Calculate angular momentum components of particles given position an velocity arrays.\n",
    "\n",
    "    Args:\n",
    "        pos (_array_): _Position 3 dim_\n",
    "        vel (_array_): _Velocities 3 dim_\n",
    "\n",
    "    Returns:\n",
    "        _1d array_: Angular momenta in each direction and total mag__\n",
    "    \"\"\"\n",
    "    L = np.cross(pos, vel)\n",
    "    mag = np.linalg.norm(L, axis=1)\n",
    "    return L[:,0], L[:,1], L[:,2], mag\n",
    "\n",
    "Lx1, Ly1, Lz1, L_mag_mw = angular_momentum(pos_mw, vel_mw)\n"
   ]
  },
  {
   "cell_type": "code",
   "execution_count": 11,
   "metadata": {},
   "outputs": [
    {
     "name": "stdout",
     "output_type": "stream",
     "text": [
      "1000000\n",
      "[ 2.02146411e-01 -1.94147987e+01  1.38229462e+02 ... -2.45280045e+02\n",
      "  1.82924179e+02  3.10036072e+02]\n"
     ]
    }
   ],
   "source": [
    "\n",
    "print(len(Lx1))\n",
    "print(pos_mw[:,0])\n",
    "Lx2, Ly2, Lz2, L_mag_mw_lmc = angular_momentum(pos_mw_lmc, vel_mw_lmc)\n",
    "\n",
    "pos_mag_mw = np.linalg.norm(pos_mw, axis=1)\n",
    "pos_mag_lmc = np.linalg.norm(pos_mw_lmc, axis=1)\n"
   ]
  },
  {
   "cell_type": "code",
   "execution_count": 18,
   "metadata": {},
   "outputs": [
    {
     "ename": "IndexError",
     "evalue": "too many indices for array: array is 1-dimensional, but 2 were indexed",
     "output_type": "error",
     "traceback": [
      "\u001b[1;31m---------------------------------------------------------------------------\u001b[0m",
      "\u001b[1;31mIndexError\u001b[0m                                Traceback (most recent call last)",
      "\u001b[1;32mc:\\Users\\Stephanie\\Downloads\\Repo\\wakefinder\\src\\Lz.ipynb Cell 6\u001b[0m in \u001b[0;36m<cell line: 6>\u001b[1;34m()\u001b[0m\n\u001b[0;32m      <a href='vscode-notebook-cell:/c%3A/Users/Stephanie/Downloads/Repo/wakefinder/src/Lz.ipynb#W3sZmlsZQ%3D%3D?line=4'>5</a>\u001b[0m hist_r_L \u001b[39m=\u001b[39m np\u001b[39m.\u001b[39mzeros((\u001b[39mlen\u001b[39m(r),\u001b[39mlen\u001b[39m(L)))\n\u001b[0;32m      <a href='vscode-notebook-cell:/c%3A/Users/Stephanie/Downloads/Repo/wakefinder/src/Lz.ipynb#W3sZmlsZQ%3D%3D?line=5'>6</a>\u001b[0m \u001b[39mfor\u001b[39;00m i \u001b[39min\u001b[39;00m \u001b[39mrange\u001b[39m(\u001b[39m0\u001b[39m,\u001b[39mlen\u001b[39m(r)\u001b[39m-\u001b[39m\u001b[39m1\u001b[39m):\n\u001b[1;32m----> <a href='vscode-notebook-cell:/c%3A/Users/Stephanie/Downloads/Repo/wakefinder/src/Lz.ipynb#W3sZmlsZQ%3D%3D?line=6'>7</a>\u001b[0m     r_index \u001b[39m=\u001b[39m np\u001b[39m.\u001b[39mwhere((pos_mag_mw \u001b[39m>\u001b[39m r[i]) \u001b[39m&\u001b[39m (pos_mag_mw[:,\u001b[39m2\u001b[39;49m] \u001b[39m<\u001b[39m r[i\u001b[39m+\u001b[39m\u001b[39m1\u001b[39m]))\n\u001b[0;32m      <a href='vscode-notebook-cell:/c%3A/Users/Stephanie/Downloads/Repo/wakefinder/src/Lz.ipynb#W3sZmlsZQ%3D%3D?line=7'>8</a>\u001b[0m     \u001b[39mfor\u001b[39;00m j \u001b[39min\u001b[39;00m \u001b[39mrange\u001b[39m(\u001b[39m0\u001b[39m,\u001b[39mlen\u001b[39m(L)\u001b[39m-\u001b[39m\u001b[39m1\u001b[39m):\n\u001b[0;32m      <a href='vscode-notebook-cell:/c%3A/Users/Stephanie/Downloads/Repo/wakefinder/src/Lz.ipynb#W3sZmlsZQ%3D%3D?line=8'>9</a>\u001b[0m         Nl \u001b[39m=\u001b[39m np\u001b[39m.\u001b[39mwhere((Lz1[r_index]\u001b[39m>\u001b[39m L[j]) \u001b[39m&\u001b[39m (Lz1[r_index] \u001b[39m<\u001b[39m L[j\u001b[39m+\u001b[39m\u001b[39m1\u001b[39m]))\n",
      "\u001b[1;31mIndexError\u001b[0m: too many indices for array: array is 1-dimensional, but 2 were indexed"
     ]
    }
   ],
   "source": [
    "\n",
    "\n",
    "#Range and step def for distance and angular momentum arrays\n",
    "\n",
    "r =  np.arange(50,250,10)\n",
    "L = np.arange(9,80000,2500)\n",
    "hist_r_L = np.zeros((len(r),len(L)))\n",
    "for i in range(0,len(r)-1):\n",
    "    r_index = np.where((pos_mag_mw > r[i]) & (pos_mag_mw[:,2] < r[i+1]))\n",
    "    for j in range(0,len(L)-1):\n",
    "        Nl = np.where((Lz1[r_index]> L[j]) & (Lz1[r_index] < L[j+1]))\n",
    "        hist_r_L[i,j] = np.shape(Nl)[1]\n",
    "\n",
    "fig,ax = plt.subplots(1,1,figsize=(10,10))\n",
    "ax.set_ylabel('L especifico en y')\n",
    "ax.set_xlabel('Rango de distancias en kpc')\n",
    "im = plt.imshow(np.log10(hist_r_L.T), extent=[50, 250, 0, 90000], aspect='auto', origin='lower', vmin=0, vmax=5,cmap='Greys')\n",
    "plt.colorbar()\n"
   ]
  },
  {
   "cell_type": "code",
   "execution_count": null,
   "metadata": {},
   "outputs": [],
   "source": [
    "\n",
    "\n",
    "# low_L = np.where(L_mag_mw < 5000)\n",
    "low_L = np.where (Lz1 < 10000)\n",
    "high_L = np.where(Lz1 > 10000)\n",
    "\n",
    "# im = plt.imshow(pos_mag_mw[low_L], L_mag_mw[low_L],  origin='lower', vmin=0, vmax=5,cmap='Greys')\n",
    "\n",
    "# print(low_L[0], medium_L[0], high_L[0])\n",
    "def hist_L_r(pos,ang_m):\n",
    "    r =  np.arange(50,250,10)\n",
    "    L = np.arange(9,50000,2500)\n",
    "    hist_r_L = np.zeros((len(r),len(L)))\n",
    "    for i in range(0,len(r)-1):\n",
    "        r_index = np.where((pos > r[i]) & (pos < r[i+1]))\n",
    "        for j in range(0,len(L)-1):\n",
    "            Nl = np.where((ang_m[r_index]> L[j]) & (ang_m[r_index] < L[j+1]))\n",
    "            hist_r_L[i,j] = np.shape(Nl)[1]\n",
    "    fig, ax = plt.subplots(1,1,figsize=(10,10))\n",
    "    im = plt.imshow(np.log10(hist_r_L.T), extent=[50, 250, 0, 50000], aspect='auto', origin='lower', vmin=0, vmax=5,cmap='Greys')\n",
    "    ax.set_xlabel(r'x [$\\mathrm{kpc}$]', fontsize=20)\n",
    "    ax.set_ylabel(r'y [$\\mathrm{kpc}$]', fontsize=20)\n",
    "    # major_ticks = np.arange(0, 250, 10)\n",
    "    # minor_ticks = np.arange(0, 250, 2)\n",
    "    # ax.set_xticks(major_ticks)\n",
    "    # ax.set_xticks(minor_ticks, minor=True)\n",
    "    # ax.set_yticks(major_ticks)\n",
    "    # ax.set_yticks(minor_ticks, minor=True)\n",
    "    # # ax.grid(which='both')\n",
    "    # ax.grid(which='minor', alpha=0.2)\n",
    "    # ax.grid(which='major', alpha=0.5)\n",
    "    ax.set_title(\"Proyección cartesiana en el plano xyu\", fontsize=35, y=1.05)\n",
    "    plt.colorbar()\n",
    "    return hist_r_L\n",
    "\n",
    "# def regions(pos):\n",
    "#     L1 = pos +5000\n",
    "#     L2 = pos +10000\n",
    "#     return L1, L2\n",
    "# lines_mw = regions(pos)\n",
    "# L1 = lines_mw[0]\n",
    "# L2 = lines_mw[1]\n",
    "# ind = []\n",
    "# for i in range(0,len(pos)):\n",
    "#     if ang_m > L1[i] and ang_m[i] < L2[i]:\n",
    "#         ind.append(i)\n",
    "# print(len((low_L)))\n",
    "\n",
    "print(len(pos_mw_lmc[:,0][low_L]))\n",
    "pos_mw_lmc_z = pos_mw_lmc[:,2]\n",
    "# hist_L_r(pos_mag_mw[low_L], L_mag_mw[low_L])\n",
    "# hist_L_r(pos_mag_mw[medium_L], L_mag_mw[medium_L])\n",
    "# hist_L_r(pos_mag_mw[high_L], L_mag_mw[high_L])\n",
    "\n",
    "hist_L_r(pos_mw_lmc_z[low_L], Lz2[low_L])\n",
    "# hist_L_r(pos_mag_lmc[medium_L], L_mag_mw_lmc[medium_L])\n",
    "# hist_L_r(pos_mag_lmc[high_L], L_mag_mw_lmc[high_L])\n"
   ]
  },
  {
   "cell_type": "code",
   "execution_count": null,
   "metadata": {},
   "outputs": [],
   "source": []
  }
 ],
 "metadata": {
  "kernelspec": {
   "display_name": "Python 3.9.13 64-bit",
   "language": "python",
   "name": "python3"
  },
  "language_info": {
   "codemirror_mode": {
    "name": "ipython",
    "version": 3
   },
   "file_extension": ".py",
   "mimetype": "text/x-python",
   "name": "python",
   "nbconvert_exporter": "python",
   "pygments_lexer": "ipython3",
   "version": "3.9.13"
  },
  "orig_nbformat": 4,
  "vscode": {
   "interpreter": {
    "hash": "4741fc7ba5af5893deb3bcbdd1fc7c774ed8cdfef023b6949b0529ab997c01a5"
   }
  }
 },
 "nbformat": 4,
 "nbformat_minor": 2
}
