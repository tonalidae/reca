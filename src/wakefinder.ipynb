{
 "cells": [
  {
   "cell_type": "code",
   "execution_count": null,
   "metadata": {},
   "outputs": [],
   "source": []
  }
 ],
 "metadata": {
  "kernelspec": {
   "display_name": "Python 3.9.13 64-bit",
   "language": "python",
   "name": "python3"
  },
  "language_info": {
   "name": "python",
   "version": "3.9.13"
  },
  "orig_nbformat": 4,
  "vscode": {
   "interpreter": {
    "hash": "4741fc7ba5af5893deb3bcbdd1fc7c774ed8cdfef023b6949b0529ab997c01a5"
   }
  }
 },
 "nbformat": 4,
 "nbformat_minor": 2
}
